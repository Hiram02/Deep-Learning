{
 "cells": [
  {
   "cell_type": "code",
   "execution_count": 2,
   "id": "willing-richardson",
   "metadata": {},
   "outputs": [],
   "source": [
    "import os\n",
    "from timeit import default_timer as timer\n",
    "import matplotlib.pyplot as plt\n",
    "import keras\n",
    "import pandas as pd\n",
    "import numpy as np\n",
    "from sklearn.metrics import classification_report, confusion_matrix\n",
    "import statistics \n",
    "\n",
    "import tensorflow as tf\n",
    "from tensorflow.keras.preprocessing.image import ImageDataGenerator\n",
    "from tensorflow.keras.callbacks import ModelCheckpoint, EarlyStopping\n",
    "from tensorflow.keras.experimental import CosineDecay\n",
    "# Modelo\n",
    "from tensorflow.keras.models import Sequential, Model\n",
    "# Capas\n",
    "from tensorflow.keras import layers\n",
    "from tensorflow.keras.layers import Dense, Dropout, Activation, Input, BatchNormalization, GlobalAveragePooling2D\n",
    "from tensorflow.keras.layers import Conv2D, MaxPooling2D, Flatten\n",
    "# Redes\n",
    "from tensorflow.keras.applications import ResNet50, MobileNet, DenseNet121, VGG16, Xception, EfficientNetB3, NASNetMobile, EfficientNetB2"
   ]
  },
  {
   "cell_type": "markdown",
   "id": "actual-engine",
   "metadata": {},
   "source": [
    "## Tiempo por epoca"
   ]
  },
  {
   "cell_type": "code",
   "execution_count": 3,
   "id": "binary-receiver",
   "metadata": {},
   "outputs": [],
   "source": [
    "class TimingCallback(keras.callbacks.Callback):\n",
    "    def __init__(self, logs={}):\n",
    "        self.logs=[]\n",
    "    def on_epoch_begin(self, epoch, logs={}):\n",
    "        self.starttime = timer()\n",
    "    def on_epoch_end(self, epoch, logs={}):\n",
    "        self.logs.append(timer()-self.starttime)\n"
   ]
  },
  {
   "cell_type": "markdown",
   "id": "compressed-broadway",
   "metadata": {},
   "source": [
    "# Parametros"
   ]
  },
  {
   "cell_type": "code",
   "execution_count": 4,
   "id": "hidden-diabetes",
   "metadata": {},
   "outputs": [],
   "source": [
    "epochs = 100\n",
    "ancho = 50\n",
    "alto = 50\n",
    "input_shape = (ancho, alto, 1)\n",
    "validation_percentage = 0.4\n",
    "batch_size = 180\n",
    "dropout_rate = 0.5\n",
    "final_neur = 1"
   ]
  },
  {
   "cell_type": "markdown",
   "id": "expired-technician",
   "metadata": {},
   "source": [
    "## Directorios"
   ]
  },
  {
   "cell_type": "code",
   "execution_count": 5,
   "id": "qualified-morgan",
   "metadata": {},
   "outputs": [],
   "source": [
    "train_dir = r'D:\\Datasets\\parpadeos\\train'\n",
    "test_dir = r'D:\\Datasets\\parpadeos\\test'\n",
    "resultados_dir = r'C:\\Users\\dh_vs\\Parpadeos\\transferL\\resultados'\n",
    "rr_dir = r'C:\\Users\\dh_vs\\Parpadeos\\transferL'"
   ]
  },
  {
   "cell_type": "code",
   "execution_count": 6,
   "id": "consistent-culture",
   "metadata": {},
   "outputs": [],
   "source": [
    "# ResNet-50\n",
    "resnet50_dir = r'C:\\Users\\dh_vs\\Parpadeos\\transferL\\resnet50'"
   ]
  },
  {
   "cell_type": "code",
   "execution_count": 7,
   "id": "pointed-cornell",
   "metadata": {},
   "outputs": [],
   "source": [
    "# MobileNet\n",
    "mobile_dir = r'C:\\Users\\dh_vs\\Parpadeos\\transferL\\mobilenet'"
   ]
  },
  {
   "cell_type": "code",
   "execution_count": 8,
   "id": "alternative-agreement",
   "metadata": {},
   "outputs": [],
   "source": [
    "# Dense Net 121\n",
    "dense_dir = r'C:\\Users\\dh_vs\\Parpadeos\\transferL\\densenet'"
   ]
  },
  {
   "cell_type": "code",
   "execution_count": 9,
   "id": "refined-valuation",
   "metadata": {},
   "outputs": [],
   "source": [
    "# VGG 16\n",
    "vgg_dir = r'C:\\Users\\dh_vs\\Parpadeos\\transferL\\vgg16'"
   ]
  },
  {
   "cell_type": "code",
   "execution_count": 10,
   "id": "smart-behavior",
   "metadata": {},
   "outputs": [],
   "source": [
    "# NasNet Mobile\n",
    "xception_dir = r'C:\\Users\\dh_vs\\Parpadeos\\transferL\\NASNetMobile'"
   ]
  },
  {
   "cell_type": "code",
   "execution_count": 11,
   "id": "thorough-calendar",
   "metadata": {},
   "outputs": [],
   "source": [
    "# EfiicientNet B3\n",
    "efficient_dir = r'C:\\Users\\dh_vs\\Parpadeos\\transferL\\efficientNetB3'"
   ]
  },
  {
   "cell_type": "code",
   "execution_count": 12,
   "id": "backed-amino",
   "metadata": {},
   "outputs": [],
   "source": [
    "# Propuesto por mi\n",
    "mio_dir = r'C:\\Users\\dh_vs\\Parpadeos\\transferL\\mio'"
   ]
  },
  {
   "cell_type": "code",
   "execution_count": 13,
   "id": "excessive-costs",
   "metadata": {},
   "outputs": [],
   "source": [
    "data_dicc = {}\n",
    "\n",
    "redes = ['EfficientNet B2', 'ResNet 50', 'MobileNet', 'DenseNet 121', 'VGG 16', 'NASNetMobile', 'Propuesto']\n",
    "data_dicc['Modelos'] = redes\n",
    "\n",
    "resultados_acc = []\n",
    "key_acc = 'Test Accuracy'\n",
    "\n",
    "resultados_time = []\n",
    "key_time = 'Average Time per Epoc'\n",
    "\n",
    "resultados_train_acc = []\n",
    "key_train_acc = 'Average Train Accuracy'\n",
    "\n",
    "resultados_loss = []\n",
    "key_loss = 'Average Train Loss'\n",
    "\n",
    "resultados_val_acc = []\n",
    "key_val_acc = 'Average Val Accuracy'\n",
    "\n",
    "resultados_val_loss = []\n",
    "key_val_loss = 'Average Val Loss'"
   ]
  },
  {
   "cell_type": "code",
   "execution_count": 14,
   "id": "organized-howard",
   "metadata": {},
   "outputs": [],
   "source": [
    "n_samples = sum([len(files) for r, d, files in os.walk(train_dir)])\n",
    "training_percentage = 1 - validation_percentage\n",
    "training_item_count = int(n_samples*training_percentage)\n",
    "validation_item_count = n_samples-int(n_samples*training_percentage)"
   ]
  },
  {
   "cell_type": "code",
   "execution_count": 15,
   "id": "taken-train",
   "metadata": {},
   "outputs": [
    {
     "name": "stdout",
     "output_type": "stream",
     "text": [
      "Found 49412 images belonging to 2 classes.\n",
      "Found 32940 images belonging to 2 classes.\n",
      "Found 2994 images belonging to 2 classes.\n"
     ]
    }
   ],
   "source": [
    "train_datagen = ImageDataGenerator(rescale = 1./255,\n",
    "                                   shear_range = 0.2,\n",
    "                                   zoom_range = 0.2,\n",
    "                                   horizontal_flip = True,\n",
    "                                   validation_split = validation_percentage,)\n",
    "test_datagen = ImageDataGenerator(rescale = 1./255)\n",
    "\n",
    "\n",
    "\n",
    "training_set = train_datagen.flow_from_directory(train_dir,\n",
    "                                                 target_size = (ancho, alto),\n",
    "                                                 shuffle=True,\n",
    "                                                 batch_size = batch_size,\n",
    "                                                 color_mode= \"grayscale\",\n",
    "                                                 subset = \"training\",\n",
    "                                                 class_mode='binary')\n",
    "\n",
    "\n",
    "valid_set = train_datagen.flow_from_directory(train_dir,\n",
    "                                                  target_size=(ancho, alto),\n",
    "                                                  shuffle=True,\n",
    "                                                  batch_size = batch_size,\n",
    "                                                  color_mode= \"grayscale\",\n",
    "                                                  subset = \"validation\",\n",
    "                                                  class_mode=\"binary\")  \n",
    "\n",
    "\n",
    "test_set = test_datagen.flow_from_directory(test_dir,\n",
    "                                            target_size = (ancho, alto),\n",
    "                                            batch_size = batch_size,\n",
    "                                            color_mode= \"grayscale\",\n",
    "                                            class_mode='binary')"
   ]
  },
  {
   "cell_type": "markdown",
   "id": "governmental-mission",
   "metadata": {},
   "source": [
    "## Dividir B.D. en Entrenamiento, validacion y prueba"
   ]
  },
  {
   "cell_type": "code",
   "execution_count": 16,
   "id": "arctic-cartoon",
   "metadata": {},
   "outputs": [
    {
     "data": {
      "text/plain": [
       "{'ojo_a': 0, 'ojo_c': 1}"
      ]
     },
     "execution_count": 16,
     "metadata": {},
     "output_type": "execute_result"
    }
   ],
   "source": [
    "training_set.class_indices"
   ]
  },
  {
   "cell_type": "markdown",
   "id": "tested-senator",
   "metadata": {},
   "source": [
    "# EfficientNet-B2 "
   ]
  },
  {
   "cell_type": "markdown",
   "id": "blessed-battlefield",
   "metadata": {},
   "source": [
    "## Modelo"
   ]
  },
  {
   "cell_type": "code",
   "execution_count": null,
   "id": "surprised-communist",
   "metadata": {},
   "outputs": [],
   "source": [
    "base_efficientNetB3 = EfficientNetB2(weights=None,\n",
    "                            include_top = False,\n",
    "                            input_shape = input_shape)\n",
    "\n",
    "\n",
    "inputs = Input(shape=input_shape)\n",
    "base_efficientNetB3 = base_efficientNetB3(inputs)\n",
    "pooling = layers.GlobalAveragePooling2D()(base_efficientNetB3)\n",
    "outputs = Dense(units = final_neur, activation = 'sigmoid')(pooling)\n",
    "model = Model(inputs=inputs, outputs=outputs)\n",
    "    \n",
    "model.summary()"
   ]
  },
  {
   "cell_type": "code",
   "execution_count": null,
   "id": "referenced-montreal",
   "metadata": {},
   "outputs": [],
   "source": [
    "opt = tf.keras.optimizers.Adam(learning_rate=0.001)\n",
    "model.compile(optimizer = opt,\n",
    "              loss = 'binary_crossentropy',\n",
    "              metrics = ['accuracy'])"
   ]
  },
  {
   "cell_type": "markdown",
   "id": "exciting-transsexual",
   "metadata": {},
   "source": [
    "#### Callbacks"
   ]
  },
  {
   "cell_type": "code",
   "execution_count": null,
   "id": "frank-handbook",
   "metadata": {},
   "outputs": [],
   "source": [
    "efficientNetB3_times = TimingCallback()\n",
    "\n",
    "\n",
    "acc_model_filename = 'efficientNetB3_best_accuracy.h5'\n",
    "acc_checkpoint_path = os.path.join(efficient_dir, acc_model_filename)\n",
    "\n",
    "efficientNetB3_accuracy = [ModelCheckpoint(filepath=acc_checkpoint_path, monitor='val_accuracy', mode='max', save_best_only=True)]\n",
    "\n",
    "loss_model_filename = 'efficientNetB3_loss.h5'\n",
    "loss_checkpoint_path = os.path.join(efficient_dir, loss_model_filename)\n",
    "\n",
    "efficientNetB3_loss = [ModelCheckpoint(filepath=loss_checkpoint_path, monitor='val_loss', mode='min', save_best_only=True)]\n"
   ]
  },
  {
   "cell_type": "markdown",
   "id": "usual-marble",
   "metadata": {},
   "source": [
    "## Entrenamiento"
   ]
  },
  {
   "cell_type": "code",
   "execution_count": null,
   "id": "several-leonard",
   "metadata": {},
   "outputs": [],
   "source": [
    "STEP_SIZE_TRAIN=training_set.n//training_set.batch_size\n",
    "STEP_SIZE_VALID=valid_set.n//valid_set.batch_size\n",
    "\n",
    "history = model.fit_generator(training_set,\n",
    "                             steps_per_epoch = STEP_SIZE_TRAIN,\n",
    "                             epochs = epochs,\n",
    "                             validation_data = valid_set,    \n",
    "                             validation_steps = STEP_SIZE_VALID,\n",
    "                             callbacks=[efficientNetB3_times, efficientNetB3_accuracy, efficientNetB3_loss])"
   ]
  },
  {
   "cell_type": "markdown",
   "id": "earned-crisis",
   "metadata": {},
   "source": [
    "## Tiempo de Ejecución"
   ]
  },
  {
   "cell_type": "code",
   "execution_count": null,
   "id": "formed-identification",
   "metadata": {},
   "outputs": [],
   "source": [
    "epocas = []\n",
    "efficientNetB3_eptime = efficientNetB3_times.logs\n",
    "for i in range(len(efficientNetB3_eptime)):\n",
    "    epocas.append(i + 1)"
   ]
  },
  {
   "cell_type": "code",
   "execution_count": null,
   "id": "matched-nothing",
   "metadata": {},
   "outputs": [],
   "source": [
    "acc = history.history['accuracy']\n",
    "mean_acc = statistics.mean(acc)\n",
    "resultados_train_acc.append(mean_acc)\n",
    "\n",
    "loss = history.history['loss']\n",
    "mean_loss = statistics.mean(loss)\n",
    "resultados_loss.append(mean_loss)\n",
    "\n",
    "val_acc = history.history['val_accuracy']\n",
    "mean_val_acc = statistics.mean(val_acc)\n",
    "resultados_val_acc.append(mean_val_acc)\n",
    "\n",
    "val_loss = history.history['val_loss']\n",
    "mean_val_loss = statistics.mean(val_loss)\n",
    "resultados_val_loss.append(mean_val_loss)\n",
    "\n",
    "mean_time = statistics.mean(efficientNetB3_times.logs)\n",
    "\n",
    "datos = list(zip(epocas, efficientNetB3_eptime, acc, loss, val_acc, val_loss))\n",
    "efficientNetB3_df = pd.DataFrame(datos, columns = ['Epoca', 'Tiempo', 'Accuracy', 'Loss', 'Val Accuracy', 'Val Loss'])\n",
    "\n",
    "\n",
    "new_row = {'Epoca': 'Promedios', 'Tiempo': mean_time, 'Accuracy': mean_acc, 'Loss': mean_loss, 'Val Accuracy': mean_val_acc, 'Val Loss': mean_val_loss}\n",
    "efficientNetB3_df = efficientNetB3_df.append(new_row, ignore_index=True)\n",
    "resultados_time.append(mean_time)\n",
    "print(efficientNetB3_df)\n",
    "ef_dir = os.path.join(efficient_dir, 'efficientNetB3.csv')\n",
    "efficientNetB3_df.to_csv(ef_dir, index = False)"
   ]
  },
  {
   "cell_type": "code",
   "execution_count": null,
   "id": "traditional-recruitment",
   "metadata": {},
   "outputs": [],
   "source": [
    "fig = plt.figure()\n",
    "plt.plot(epocas, efficientNetB3_eptime)\n",
    "plt.title('EfficientNetB2, Tiempo por epoca')\n",
    "plt.xlabel('Epoca')\n",
    "plt.ylabel('Tiempo (s)')\n",
    "plt.show()\n",
    "ef_dir = os.path.join(efficient_dir, 'efficientNetB2_time.png')\n",
    "fig.savefig(ef_dir)"
   ]
  },
  {
   "cell_type": "markdown",
   "id": "flying-northeast",
   "metadata": {},
   "source": [
    "### Eliminando el primer dato"
   ]
  },
  {
   "cell_type": "code",
   "execution_count": null,
   "id": "wireless-nowhere",
   "metadata": {},
   "outputs": [],
   "source": [
    "fig = plt.figure()\n",
    "plt.plot(epocas[1:], efficientNetB3_eptime[1:])\n",
    "plt.title('EfficientNetB2, Tiempo por epoca, eliminando primer epoca')\n",
    "plt.xlabel('Epoca')\n",
    "plt.ylabel('Tiempo (s)')\n",
    "plt.show()\n",
    "ef_dir = os.path.join(efficient_dir, 'efficientNetB2_time2.png')\n",
    "fig.savefig(ef_dir)"
   ]
  },
  {
   "cell_type": "markdown",
   "id": "bound-flour",
   "metadata": {},
   "source": [
    "## Proceso de Entrenamiento"
   ]
  },
  {
   "cell_type": "code",
   "execution_count": null,
   "id": "violent-moral",
   "metadata": {},
   "outputs": [],
   "source": [
    "fig = plt.figure()\n",
    "plt.plot(history.history['loss'])\n",
    "plt.plot(history.history['val_loss'])\n",
    "plt.title('Loss en epocas - efficientNetB2')\n",
    "plt.ylabel('Loss')\n",
    "plt.xlabel('Epoca')\n",
    "plt.legend(['Entrenamiento', 'Validacion'], loc='best')\n",
    "plt.show()\n",
    "ef_dir = os.path.join(efficient_dir, 'entrena_loss_efficientNetB2.png')\n",
    "fig.savefig(ef_dir)"
   ]
  },
  {
   "cell_type": "code",
   "execution_count": null,
   "id": "adequate-loading",
   "metadata": {},
   "outputs": [],
   "source": [
    "fig = plt.figure()\n",
    "plt.plot(history.history['accuracy'])\n",
    "plt.plot(history.history['val_accuracy'])\n",
    "plt.title('Accuracy en epocas - efficientNetB2')\n",
    "plt.ylabel('accuracy')\n",
    "plt.xlabel('Epoca')\n",
    "plt.legend(['Entrenamiento', 'Validacion'], loc='best')\n",
    "plt.show()\n",
    "ef_dir = os.path.join(efficient_dir, 'entrena_accuracy_efficientNetB2.png')\n",
    "fig.savefig(ef_dir)"
   ]
  },
  {
   "cell_type": "markdown",
   "id": "likely-battle",
   "metadata": {},
   "source": [
    "## Prueba"
   ]
  },
  {
   "cell_type": "code",
   "execution_count": null,
   "id": "lined-gateway",
   "metadata": {},
   "outputs": [],
   "source": [
    "model = keras.models.load_model(acc_checkpoint_path)\n",
    "acc_result = model.evaluate(test_set)\n",
    "result_acc = acc_result[1]*100\n",
    "print(result_acc)\n",
    "print(acc_checkpoint_path)\n",
    "\n",
    "model = keras.models.load_model(loss_checkpoint_path)\n",
    "loss_result = model.evaluate(test_set)\n",
    "result_loss = loss_result[1]*100\n",
    "print(result_loss)\n",
    "print(loss_checkpoint_path)"
   ]
  },
  {
   "cell_type": "code",
   "execution_count": null,
   "id": "adjustable-specific",
   "metadata": {},
   "outputs": [],
   "source": [
    "if result_acc >= result_loss:\n",
    "    final_model = keras.models.load_model(acc_checkpoint_path)\n",
    "    result = result_acc\n",
    "    resultados_acc.append(result)\n",
    "    print('acc')\n",
    "else:\n",
    "    final_model = keras.models.load_model(loss_checkpoint_path)\n",
    "    result = result_loss\n",
    "    resultados_acc.append(result)\n",
    "    print('loss')"
   ]
  },
  {
   "cell_type": "markdown",
   "id": "south-parameter",
   "metadata": {},
   "source": [
    "# ResNet 50"
   ]
  },
  {
   "cell_type": "markdown",
   "id": "fossil-carrier",
   "metadata": {},
   "source": [
    "## Modelo"
   ]
  },
  {
   "cell_type": "code",
   "execution_count": null,
   "id": "changed-dressing",
   "metadata": {},
   "outputs": [],
   "source": [
    "base_resnet50 = ResNet50(weights=None,\n",
    "                            include_top = False,\n",
    "                            input_shape = input_shape)\n",
    "\n",
    "\n",
    "inputs = Input(shape=input_shape)\n",
    "base_resnet50 = base_resnet50(inputs)\n",
    "pooling = layers.GlobalAveragePooling2D()(base_resnet50)\n",
    "outputs = Dense(units = final_neur, activation = 'sigmoid')(pooling)\n",
    "model = Model(inputs=inputs, outputs=outputs)\n",
    "    \n",
    "model.summary()"
   ]
  },
  {
   "cell_type": "code",
   "execution_count": null,
   "id": "ready-palestine",
   "metadata": {},
   "outputs": [],
   "source": [
    "opt = tf.keras.optimizers.Adam(learning_rate=0.001)\n",
    "model.compile(optimizer = opt,\n",
    "              loss = 'binary_crossentropy',\n",
    "              metrics = ['accuracy'])"
   ]
  },
  {
   "cell_type": "markdown",
   "id": "operating-graphic",
   "metadata": {},
   "source": [
    "#### Callbacks"
   ]
  },
  {
   "cell_type": "code",
   "execution_count": null,
   "id": "former-sterling",
   "metadata": {},
   "outputs": [],
   "source": [
    "resnet_times = TimingCallback()\n",
    "\n",
    "\n",
    "acc_model_filename = 'rn50_best_accuracy.h5'\n",
    "acc_checkpoint_path = os.path.join(resnet50_dir, acc_model_filename)\n",
    "\n",
    "resnet_accuracy = [ModelCheckpoint(filepath=acc_checkpoint_path, monitor='val_accuracy', mode='max', save_best_only=True)]\n",
    "\n",
    "loss_model_filename = 'rn50_best_loss.h5'\n",
    "loss_checkpoint_path = os.path.join(resnet50_dir, loss_model_filename)\n",
    "\n",
    "resnet_loss = [ModelCheckpoint(filepath=loss_checkpoint_path, monitor='val_loss', mode='min', save_best_only=True)]\n"
   ]
  },
  {
   "cell_type": "markdown",
   "id": "russian-proportion",
   "metadata": {},
   "source": [
    "### Entrenamiento"
   ]
  },
  {
   "cell_type": "code",
   "execution_count": null,
   "id": "ethical-reunion",
   "metadata": {
    "scrolled": true
   },
   "outputs": [],
   "source": [
    "STEP_SIZE_TRAIN=training_set.n//training_set.batch_size\n",
    "STEP_SIZE_VALID=valid_set.n//valid_set.batch_size\n",
    "\n",
    "history = model.fit_generator(training_set,\n",
    "                             steps_per_epoch = STEP_SIZE_TRAIN,\n",
    "                             epochs = epochs,\n",
    "                             validation_data = valid_set,    \n",
    "                             validation_steps = STEP_SIZE_VALID,\n",
    "                             callbacks=[resnet_times, resnet_accuracy, resnet_loss])"
   ]
  },
  {
   "cell_type": "markdown",
   "id": "behind-removal",
   "metadata": {},
   "source": [
    "### Tiempo de ejecución"
   ]
  },
  {
   "cell_type": "code",
   "execution_count": null,
   "id": "broad-mechanics",
   "metadata": {},
   "outputs": [],
   "source": [
    "epocas = []\n",
    "resnet_eptime = resnet_times.logs\n",
    "for i in range(len(resnet_eptime)):\n",
    "    epocas.append(i + 1)"
   ]
  },
  {
   "cell_type": "code",
   "execution_count": null,
   "id": "virtual-pierre",
   "metadata": {},
   "outputs": [],
   "source": [
    "acc = history.history['accuracy']\n",
    "mean_acc = statistics.mean(acc)\n",
    "resultados_train_acc.append(mean_acc)\n",
    "\n",
    "loss = history.history['loss']\n",
    "mean_loss = statistics.mean(loss)\n",
    "resultados_loss.append(mean_loss)\n",
    "\n",
    "val_acc = history.history['val_accuracy']\n",
    "mean_val_acc = statistics.mean(val_acc)\n",
    "resultados_val_acc.append(mean_val_acc)\n",
    "\n",
    "val_loss = history.history['val_loss']\n",
    "mean_val_loss = statistics.mean(val_loss)\n",
    "resultados_val_loss.append(mean_val_loss)\n",
    "\n",
    "mean_time = statistics.mean(resnet_times.logs)\n",
    "\n",
    "datos = list(zip(epocas, resnet_eptime, acc, loss, val_acc, val_loss))\n",
    "resnet_df = pd.DataFrame(datos, columns = ['Epoca', 'Tiempo', 'Accuracy', 'Loss', 'Val Accuracy', 'Val Loss'])\n",
    "\n",
    "\n",
    "new_row = {'Epoca': 'Promedios', 'Tiempo': mean_time, 'Accuracy': mean_acc, 'Loss': mean_loss, 'Val Accuracy': mean_val_acc, 'Val Loss': mean_val_loss}\n",
    "resnet_df = resnet_df.append(new_row, ignore_index=True)\n",
    "resultados_time.append(mean_time)\n",
    "print(resnet_df)\n",
    "r_path = os.path.join(resnet50_dir, 'resnet50.csv')\n",
    "resnet_df.to_csv(r_path, index = False)"
   ]
  },
  {
   "cell_type": "code",
   "execution_count": null,
   "id": "korean-scanner",
   "metadata": {},
   "outputs": [],
   "source": [
    "fig = plt.figure()\n",
    "plt.plot(epocas, resnet_eptime)\n",
    "plt.title('ResNet-50, Tiempo por epoca')\n",
    "plt.xlabel('Epoca')\n",
    "plt.ylabel('Tiempo (s)')\n",
    "plt.show()\n",
    "r_path = os.path.join(resnet50_dir, 'resnet_time.png')\n",
    "fig.savefig(r_path)"
   ]
  },
  {
   "cell_type": "markdown",
   "id": "executive-final",
   "metadata": {},
   "source": [
    "### Eliminando el primer dato"
   ]
  },
  {
   "cell_type": "code",
   "execution_count": null,
   "id": "serial-progressive",
   "metadata": {},
   "outputs": [],
   "source": [
    "fig = plt.figure()\n",
    "plt.plot(epocas[1:], resnet_eptime[1:])\n",
    "plt.title('ResNet-50, Tiempo por epoca, eliminando primer epoca')\n",
    "plt.xlabel('Epoca')\n",
    "plt.ylabel('Tiempo (s)')\n",
    "plt.show()\n",
    "r_path = os.path.join(resnet50_dir, 'resnet_time2.png')\n",
    "fig.savefig(r_path)"
   ]
  },
  {
   "cell_type": "markdown",
   "id": "executed-coral",
   "metadata": {},
   "source": [
    "### Proceso de Entrenamiento"
   ]
  },
  {
   "cell_type": "code",
   "execution_count": null,
   "id": "suburban-shock",
   "metadata": {},
   "outputs": [],
   "source": [
    "fig = plt.figure()\n",
    "plt.plot(history.history['loss'])\n",
    "plt.plot(history.history['val_loss'])\n",
    "plt.title('Loss en epocas - ResNet-50')\n",
    "plt.ylabel('Loss')\n",
    "plt.xlabel('Epoca')\n",
    "plt.legend(['Entrenamiento', 'Validacion'], loc='best')\n",
    "plt.show()\n",
    "r_path = os.path.join(resnet50_dir, 'entrena_loss_resnet.png')\n",
    "fig.savefig(r_path)"
   ]
  },
  {
   "cell_type": "code",
   "execution_count": null,
   "id": "guilty-journalism",
   "metadata": {},
   "outputs": [],
   "source": [
    "fig = plt.figure()\n",
    "plt.plot(history.history['accuracy'])\n",
    "plt.plot(history.history['val_accuracy'])\n",
    "plt.title('Accuracy en epocas - ResNet-50')\n",
    "plt.ylabel('accuracy')\n",
    "plt.xlabel('Epoca')\n",
    "plt.legend(['Entrenamiento', 'Validacion'], loc='best')\n",
    "plt.show()\n",
    "r_path = os.path.join(resnet50_dir, 'entrada_accuracy_resnet.png')\n",
    "fig.savefig(r_path)"
   ]
  },
  {
   "cell_type": "markdown",
   "id": "recorded-resistance",
   "metadata": {},
   "source": [
    "### Prueba"
   ]
  },
  {
   "cell_type": "code",
   "execution_count": null,
   "id": "superior-artwork",
   "metadata": {},
   "outputs": [],
   "source": [
    "model = keras.models.load_model(acc_checkpoint_path)\n",
    "acc_result = model.evaluate(test_set)\n",
    "result_acc = acc_result[1]*100\n",
    "print(result_acc)\n",
    "print(acc_checkpoint_path)\n",
    "\n",
    "model = keras.models.load_model(loss_checkpoint_path)\n",
    "loss_result = model.evaluate(test_set)\n",
    "result_loss = loss_result[1]*100\n",
    "print(result_loss)\n",
    "print(loss_checkpoint_path)"
   ]
  },
  {
   "cell_type": "code",
   "execution_count": null,
   "id": "geological-aaron",
   "metadata": {},
   "outputs": [],
   "source": [
    "if result_acc >= result_loss:\n",
    "    final_model = keras.models.load_model(acc_checkpoint_path)\n",
    "    result = result_acc\n",
    "    resultados_acc.append(result)\n",
    "    print('acc')\n",
    "else:\n",
    "    final_model = keras.models.load_model(loss_checkpoint_path)\n",
    "    result = result_loss\n",
    "    resultados_acc.append(result)\n",
    "    print('loss')"
   ]
  },
  {
   "cell_type": "markdown",
   "id": "civic-right",
   "metadata": {},
   "source": [
    "# MobileNet"
   ]
  },
  {
   "cell_type": "markdown",
   "id": "failing-houston",
   "metadata": {},
   "source": [
    "## Modelo"
   ]
  },
  {
   "cell_type": "code",
   "execution_count": null,
   "id": "sunset-server",
   "metadata": {},
   "outputs": [],
   "source": [
    "base_mobilenet = MobileNet(weights=None,\n",
    "                            include_top = False,\n",
    "                            input_shape = input_shape)\n",
    "\n",
    "\n",
    "inputs = Input(shape=input_shape)\n",
    "base_mobilenet = base_mobilenet(inputs)\n",
    "pooling = layers.GlobalAveragePooling2D()(base_mobilenet)\n",
    "outputs = Dense(units = final_neur, activation = 'sigmoid')(pooling)\n",
    "model = Model(inputs=inputs, outputs=outputs)\n",
    "    \n",
    "model.summary()"
   ]
  },
  {
   "cell_type": "code",
   "execution_count": null,
   "id": "blind-geometry",
   "metadata": {},
   "outputs": [],
   "source": [
    "opt = tf.keras.optimizers.Adam(learning_rate=0.001)\n",
    "model.compile(optimizer = opt,\n",
    "              loss = 'binary_crossentropy',\n",
    "              metrics = ['accuracy'])"
   ]
  },
  {
   "cell_type": "markdown",
   "id": "atlantic-excuse",
   "metadata": {},
   "source": [
    "#### Callbacks"
   ]
  },
  {
   "cell_type": "code",
   "execution_count": null,
   "id": "given-discipline",
   "metadata": {},
   "outputs": [],
   "source": [
    "mobilenet_times = TimingCallback()\n",
    "\n",
    "\n",
    "acc_model_filename = 'mobilenet_best_accuracy.h5'\n",
    "acc_checkpoint_path = os.path.join(mobile_dir, acc_model_filename)\n",
    "\n",
    "mobilenet_accuracy = [ModelCheckpoint(filepath=acc_checkpoint_path, monitor='val_accuracy', mode='max', save_best_only=True)]\n",
    "\n",
    "loss_model_filename = 'mobilenet_best_loss.h5'\n",
    "loss_checkpoint_path = os.path.join(mobile_dir, loss_model_filename)\n",
    "\n",
    "mobilenet_loss = [ModelCheckpoint(filepath=loss_checkpoint_path, monitor='val_loss', mode='min', save_best_only=True)]\n"
   ]
  },
  {
   "cell_type": "markdown",
   "id": "mighty-credits",
   "metadata": {},
   "source": [
    "## Entrenamiento"
   ]
  },
  {
   "cell_type": "code",
   "execution_count": null,
   "id": "english-palestine",
   "metadata": {
    "scrolled": true
   },
   "outputs": [],
   "source": [
    "STEP_SIZE_TRAIN=training_set.n//training_set.batch_size\n",
    "STEP_SIZE_VALID=valid_set.n//valid_set.batch_size\n",
    "\n",
    "history = model.fit_generator(training_set,\n",
    "                             steps_per_epoch = STEP_SIZE_TRAIN,\n",
    "                             epochs = epochs,\n",
    "                             validation_data = valid_set,    \n",
    "                             validation_steps = STEP_SIZE_VALID,\n",
    "                             callbacks=[mobilenet_times, mobilenet_accuracy, mobilenet_loss])"
   ]
  },
  {
   "cell_type": "markdown",
   "id": "drawn-giant",
   "metadata": {},
   "source": [
    "## Tiempo de Ejecución "
   ]
  },
  {
   "cell_type": "code",
   "execution_count": null,
   "id": "answering-cambridge",
   "metadata": {},
   "outputs": [],
   "source": [
    "epocas = []\n",
    "mobilenet_eptime = mobilenet_times.logs\n",
    "for i in range(len(mobilenet_eptime)):\n",
    "    epocas.append(i + 1)"
   ]
  },
  {
   "cell_type": "code",
   "execution_count": null,
   "id": "authorized-tribune",
   "metadata": {},
   "outputs": [],
   "source": [
    "acc = history.history['accuracy']\n",
    "mean_acc = statistics.mean(acc)\n",
    "resultados_train_acc.append(mean_acc)\n",
    "\n",
    "loss = history.history['loss']\n",
    "mean_loss = statistics.mean(loss)\n",
    "resultados_loss.append(mean_loss)\n",
    "\n",
    "val_acc = history.history['val_accuracy']\n",
    "mean_val_acc = statistics.mean(val_acc)\n",
    "resultados_val_acc.append(mean_val_acc)\n",
    "\n",
    "val_loss = history.history['val_loss']\n",
    "mean_val_loss = statistics.mean(val_loss)\n",
    "resultados_val_loss.append(mean_val_loss)\n",
    "\n",
    "mean_time = statistics.mean(mobilenet_times.logs)\n",
    "\n",
    "datos = list(zip(epocas, mobilenet_eptime, acc, loss, val_acc, val_loss))\n",
    "mobilenet_df = pd.DataFrame(datos, columns = ['Epoca', 'Tiempo', 'Accuracy', 'Loss', 'Val Accuracy', 'Val Loss'])\n",
    "\n",
    "\n",
    "new_row = {'Epoca': 'Promedios', 'Tiempo': mean_time, 'Accuracy': mean_acc, 'Loss': mean_loss, 'Val Accuracy': mean_val_acc, 'Val Loss': mean_val_loss}\n",
    "mobilenet_df = mobilenet_df.append(new_row, ignore_index=True)\n",
    "resultados_time.append(mean_time)\n",
    "print(mobilenet_df)\n",
    "m_dir = os.path.join(mobile_dir, 'mobilenet.csv')\n",
    "mobilenet_df.to_csv(m_dir, index = False)"
   ]
  },
  {
   "cell_type": "code",
   "execution_count": null,
   "id": "motivated-iceland",
   "metadata": {},
   "outputs": [],
   "source": [
    "fig = plt.figure()\n",
    "plt.plot(epocas, mobilenet_eptime)\n",
    "plt.title('mobilenet, Tiempo por epoca')\n",
    "plt.xlabel('Epoca')\n",
    "plt.ylabel('Tiempo (s)')\n",
    "plt.show()\n",
    "m_dir = os.path.join(mobile_dir, 'mobilenet_time.png')\n",
    "fig.savefig(m_dir)"
   ]
  },
  {
   "cell_type": "markdown",
   "id": "smoking-hours",
   "metadata": {},
   "source": [
    "### Eliminando el primer dato"
   ]
  },
  {
   "cell_type": "code",
   "execution_count": null,
   "id": "blank-victor",
   "metadata": {},
   "outputs": [],
   "source": [
    "fig = plt.figure()\n",
    "plt.plot(epocas[1:], mobilenet_eptime[1:])\n",
    "plt.title('mobilenet, Tiempo por epoca, eliminando primer epoca')\n",
    "plt.xlabel('Epoca')\n",
    "plt.ylabel('Tiempo (s)')\n",
    "plt.show()\n",
    "m_dir = os.path.join(mobile_dir, 'mobilenet_time2.png')\n",
    "fig.savefig(m_dir)"
   ]
  },
  {
   "cell_type": "markdown",
   "id": "fitting-digit",
   "metadata": {},
   "source": [
    "## Proceso de Entrenamiento"
   ]
  },
  {
   "cell_type": "code",
   "execution_count": null,
   "id": "vietnamese-madonna",
   "metadata": {},
   "outputs": [],
   "source": [
    "fig = plt.figure()\n",
    "plt.plot(history.history['loss'])\n",
    "plt.plot(history.history['val_loss'])\n",
    "plt.title('Loss en epocas - MobileNet')\n",
    "plt.ylabel('Loss')\n",
    "plt.xlabel('Epoca')\n",
    "plt.legend(['Entrenamiento', 'Validacion'], loc='best')\n",
    "plt.show()\n",
    "m_dir = os.path.join(mobile_dir, 'entrena_loss_mobilenet.png')\n",
    "fig.savefig(m_dir)"
   ]
  },
  {
   "cell_type": "code",
   "execution_count": null,
   "id": "guided-comedy",
   "metadata": {},
   "outputs": [],
   "source": [
    "fig = plt.figure()\n",
    "plt.plot(history.history['accuracy'])\n",
    "plt.plot(history.history['val_accuracy'])\n",
    "plt.title('Accuracy en epocas - MobileNet')\n",
    "plt.ylabel('accuracy')\n",
    "plt.xlabel('Epoca')\n",
    "plt.legend(['Entrenamiento', 'Validacion'], loc='best')\n",
    "plt.show()\n",
    "m_dir = os.path.join(mobile_dir, 'entrena_accuracy_mobilenet.png')\n",
    "fig.savefig(m_dir)"
   ]
  },
  {
   "cell_type": "markdown",
   "id": "disturbed-rover",
   "metadata": {},
   "source": [
    "## Prueba"
   ]
  },
  {
   "cell_type": "code",
   "execution_count": null,
   "id": "binding-jaguar",
   "metadata": {},
   "outputs": [],
   "source": [
    "model = keras.models.load_model(acc_checkpoint_path)\n",
    "acc_result = model.evaluate(test_set)\n",
    "result_acc = acc_result[1]*100\n",
    "print(result_acc)\n",
    "print(acc_checkpoint_path)\n",
    "\n",
    "model = keras.models.load_model(loss_checkpoint_path)\n",
    "loss_result = model.evaluate(test_set)\n",
    "result_loss = loss_result[1]*100\n",
    "print(result_loss)\n",
    "print(loss_checkpoint_path)"
   ]
  },
  {
   "cell_type": "code",
   "execution_count": null,
   "id": "deluxe-hierarchy",
   "metadata": {},
   "outputs": [],
   "source": [
    "if result_acc >= result_loss:\n",
    "    final_model = keras.models.load_model(acc_checkpoint_path)\n",
    "    result = result_acc\n",
    "    resultados_acc.append(result)\n",
    "    print('acc')\n",
    "else:\n",
    "    final_model = keras.models.load_model(loss_checkpoint_path)\n",
    "    result = result_loss\n",
    "    resultados_acc.append(result)\n",
    "    print('loss')"
   ]
  },
  {
   "cell_type": "markdown",
   "id": "tamil-regression",
   "metadata": {},
   "source": [
    "# DenseNet 121"
   ]
  },
  {
   "cell_type": "markdown",
   "id": "planned-hearts",
   "metadata": {},
   "source": [
    "## Modelo"
   ]
  },
  {
   "cell_type": "code",
   "execution_count": null,
   "id": "otherwise-macro",
   "metadata": {},
   "outputs": [],
   "source": [
    "base_densenet = DenseNet121(weights=None,\n",
    "                            include_top = False,\n",
    "                            input_shape = input_shape)\n",
    "\n",
    "\n",
    "inputs = Input(shape=input_shape)\n",
    "base_densenet = base_densenet(inputs)\n",
    "pooling = layers.GlobalAveragePooling2D()(base_densenet)\n",
    "outputs = Dense(units = final_neur, activation = 'sigmoid')(pooling)\n",
    "model = Model(inputs=inputs, outputs=outputs)\n",
    "    \n",
    "model.summary()"
   ]
  },
  {
   "cell_type": "code",
   "execution_count": null,
   "id": "current-strap",
   "metadata": {},
   "outputs": [],
   "source": [
    "opt = tf.keras.optimizers.Adam(learning_rate=0.001)\n",
    "model.compile(optimizer = opt,\n",
    "              loss = 'binary_crossentropy',\n",
    "              metrics = ['accuracy'])"
   ]
  },
  {
   "cell_type": "markdown",
   "id": "legal-rugby",
   "metadata": {},
   "source": [
    "#### Callbacks"
   ]
  },
  {
   "cell_type": "code",
   "execution_count": null,
   "id": "vanilla-andorra",
   "metadata": {},
   "outputs": [],
   "source": [
    "densenet_times = TimingCallback()\n",
    "\n",
    "\n",
    "acc_model_filename = 'densenet_best_accuracy.h5'\n",
    "acc_checkpoint_path = os.path.join(dense_dir, acc_model_filename)\n",
    "\n",
    "densenet_accuracy = [ModelCheckpoint(filepath=acc_checkpoint_path, monitor='val_accuracy', mode='max', save_best_only=True)]\n",
    "\n",
    "loss_model_filename = 'densenet_best_loss.h5'\n",
    "loss_checkpoint_path = os.path.join(dense_dir, loss_model_filename)\n",
    "\n",
    "densenet_loss = [ModelCheckpoint(filepath=loss_checkpoint_path, monitor='val_loss', mode='min', save_best_only=True)]\n"
   ]
  },
  {
   "cell_type": "markdown",
   "id": "artistic-dragon",
   "metadata": {},
   "source": [
    "## Entrenamiento"
   ]
  },
  {
   "cell_type": "code",
   "execution_count": null,
   "id": "first-camcorder",
   "metadata": {},
   "outputs": [],
   "source": [
    "STEP_SIZE_TRAIN=training_set.n//training_set.batch_size\n",
    "STEP_SIZE_VALID=valid_set.n//valid_set.batch_size\n",
    "\n",
    "history = model.fit_generator(training_set,\n",
    "                             steps_per_epoch = STEP_SIZE_TRAIN,\n",
    "                             epochs = epochs,\n",
    "                             validation_data = valid_set,    \n",
    "                             validation_steps = STEP_SIZE_VALID,\n",
    "                             callbacks=[densenet_times, densenet_accuracy, densenet_loss])"
   ]
  },
  {
   "cell_type": "markdown",
   "id": "postal-pregnancy",
   "metadata": {},
   "source": [
    "## Tiempo de Ejecución"
   ]
  },
  {
   "cell_type": "code",
   "execution_count": null,
   "id": "paperback-snowboard",
   "metadata": {},
   "outputs": [],
   "source": [
    "epocas = []\n",
    "densenet_eptime = densenet_times.logs\n",
    "for i in range(len(densenet_eptime)):\n",
    "    epocas.append(i + 1)"
   ]
  },
  {
   "cell_type": "code",
   "execution_count": null,
   "id": "cellular-patient",
   "metadata": {},
   "outputs": [],
   "source": [
    "acc = history.history['accuracy']\n",
    "mean_acc = statistics.mean(acc)\n",
    "resultados_train_acc.append(mean_acc)\n",
    "\n",
    "loss = history.history['loss']\n",
    "mean_loss = statistics.mean(loss)\n",
    "resultados_loss.append(mean_loss)\n",
    "\n",
    "val_acc = history.history['val_accuracy']\n",
    "mean_val_acc = statistics.mean(val_acc)\n",
    "resultados_val_acc.append(mean_val_acc)\n",
    "\n",
    "val_loss = history.history['val_loss']\n",
    "mean_val_loss = statistics.mean(val_loss)\n",
    "resultados_val_loss.append(mean_val_loss)\n",
    "\n",
    "mean_time = statistics.mean(densenet_times.logs)\n",
    "\n",
    "datos = list(zip(epocas, densenet_eptime, acc, loss, val_acc, val_loss))\n",
    "densenet_df = pd.DataFrame(datos, columns = ['Epoca', 'Tiempo', 'Accuracy', 'Loss', 'Val Accuracy', 'Val Loss'])\n",
    "\n",
    "\n",
    "new_row = {'Epoca': 'Promedios', 'Tiempo': mean_time, 'Accuracy': mean_acc, 'Loss': mean_loss, 'Val Accuracy': mean_val_acc, 'Val Loss': mean_val_loss}\n",
    "densenet_df = densenet_df.append(new_row, ignore_index=True)\n",
    "resultados_time.append(mean_time)\n",
    "print(densenet_df)\n",
    "d_dir = os.path.join(dense_dir, 'densenet.csv')\n",
    "densenet_df.to_csv(d_dir, index = False)"
   ]
  },
  {
   "cell_type": "code",
   "execution_count": null,
   "id": "cultural-vaccine",
   "metadata": {},
   "outputs": [],
   "source": [
    "fig = plt.figure()\n",
    "plt.plot(epocas, densenet_eptime)\n",
    "plt.title('densenet, Tiempo por epoca')\n",
    "plt.xlabel('Epoca')\n",
    "plt.ylabel('Tiempo (s)')\n",
    "plt.show()\n",
    "d_dir = os.path.join(dense_dir, 'densenet_time.png')\n",
    "fig.savefig(d_dir)"
   ]
  },
  {
   "cell_type": "markdown",
   "id": "excess-lecture",
   "metadata": {},
   "source": [
    "### Eliminando el primer dato"
   ]
  },
  {
   "cell_type": "code",
   "execution_count": null,
   "id": "looking-quilt",
   "metadata": {},
   "outputs": [],
   "source": [
    "fig = plt.figure()\n",
    "plt.plot(epocas[1:], densenet_eptime[1:])\n",
    "plt.title('densenet, Tiempo por epoca, eliminando primer epoca')\n",
    "plt.xlabel('Epoca')\n",
    "plt.ylabel('Tiempo (s)')\n",
    "plt.show()\n",
    "d_dir = os.path.join(dense_dir, 'densenet_time2.png')\n",
    "fig.savefig(d_dir)"
   ]
  },
  {
   "cell_type": "markdown",
   "id": "closing-people",
   "metadata": {},
   "source": [
    "## Proceso de Entrenamiento"
   ]
  },
  {
   "cell_type": "code",
   "execution_count": null,
   "id": "native-consensus",
   "metadata": {},
   "outputs": [],
   "source": [
    "fig = plt.figure()\n",
    "plt.plot(history.history['loss'])\n",
    "plt.plot(history.history['val_loss'])\n",
    "plt.title('Loss en epocas - DenseNet 121')\n",
    "plt.ylabel('Loss')\n",
    "plt.xlabel('Epoca')\n",
    "plt.legend(['Entrenamiento', 'Validacion'], loc='best')\n",
    "plt.show()\n",
    "d_dir = os.path.join(dense_dir, 'entrena_loss_densenet.png')\n",
    "fig.savefig(d_dir)"
   ]
  },
  {
   "cell_type": "code",
   "execution_count": null,
   "id": "mathematical-funeral",
   "metadata": {},
   "outputs": [],
   "source": [
    "fig = plt.figure()\n",
    "plt.plot(history.history['accuracy'])\n",
    "plt.plot(history.history['val_accuracy'])\n",
    "plt.title('Accuracy en epocas - DenseNet 121')\n",
    "plt.ylabel('accuracy')\n",
    "plt.xlabel('Epoca')\n",
    "plt.legend(['Entrenamiento', 'Validacion'], loc='best')\n",
    "plt.show()\n",
    "d_dir = os.path.join(dense_dir, 'entrena_accuracy_densenet.png')\n",
    "fig.savefig(d_dir)"
   ]
  },
  {
   "cell_type": "markdown",
   "id": "blocked-living",
   "metadata": {},
   "source": [
    "## Prueba"
   ]
  },
  {
   "cell_type": "code",
   "execution_count": null,
   "id": "digital-bermuda",
   "metadata": {},
   "outputs": [],
   "source": [
    "model = keras.models.load_model(acc_checkpoint_path)\n",
    "acc_result = model.evaluate(test_set)\n",
    "result_acc = acc_result[1]*100\n",
    "print(result_acc)\n",
    "print(acc_checkpoint_path)\n",
    "\n",
    "model = keras.models.load_model(loss_checkpoint_path)\n",
    "loss_result = model.evaluate(test_set)\n",
    "result_loss = loss_result[1]*100\n",
    "print(result_loss)\n",
    "print(loss_checkpoint_path)"
   ]
  },
  {
   "cell_type": "code",
   "execution_count": null,
   "id": "concrete-lighting",
   "metadata": {},
   "outputs": [],
   "source": [
    "if result_acc >= result_loss:\n",
    "    final_model = keras.models.load_model(acc_checkpoint_path)\n",
    "    result = result_acc\n",
    "    resultados_acc.append(result)\n",
    "    print('acc')\n",
    "else:\n",
    "    final_model = keras.models.load_model(loss_checkpoint_path)\n",
    "    result = result_loss\n",
    "    resultados_acc.append(result)\n",
    "    print('loss')"
   ]
  },
  {
   "cell_type": "markdown",
   "id": "faced-course",
   "metadata": {},
   "source": [
    "# VGG 16"
   ]
  },
  {
   "cell_type": "markdown",
   "id": "aware-display",
   "metadata": {},
   "source": [
    "## Modelo"
   ]
  },
  {
   "cell_type": "code",
   "execution_count": null,
   "id": "static-thumb",
   "metadata": {},
   "outputs": [],
   "source": [
    "base_vgg16 = VGG16(weights=None,\n",
    "                   include_top = False,\n",
    "                   input_shape = input_shape)\n",
    "\n",
    "\n",
    "inputs = Input(shape=input_shape)\n",
    "base_vgg16 = base_vgg16(inputs)\n",
    "pooling = layers.GlobalAveragePooling2D()(base_vgg16)\n",
    "outputs = Dense(units = final_neur, activation = 'sigmoid')(pooling)\n",
    "model = Model(inputs=inputs, outputs=outputs)\n",
    "    \n",
    "model.summary()"
   ]
  },
  {
   "cell_type": "code",
   "execution_count": null,
   "id": "golden-astrology",
   "metadata": {},
   "outputs": [],
   "source": [
    "opt = tf.keras.optimizers.Adam(learning_rate=0.001)\n",
    "model.compile(optimizer = opt,\n",
    "              loss = 'binary_crossentropy',\n",
    "              metrics = ['accuracy'])"
   ]
  },
  {
   "cell_type": "markdown",
   "id": "partial-anaheim",
   "metadata": {},
   "source": [
    "#### Callbacks"
   ]
  },
  {
   "cell_type": "code",
   "execution_count": null,
   "id": "political-standing",
   "metadata": {},
   "outputs": [],
   "source": [
    "vgg16_times = TimingCallback()\n",
    "\n",
    "\n",
    "acc_model_filename = 'vgg16_best_accuracy.h5'\n",
    "acc_checkpoint_path = os.path.join(vgg_dir, acc_model_filename)\n",
    "\n",
    "vgg16_accuracy = [ModelCheckpoint(filepath=acc_checkpoint_path, monitor='val_accuracy', mode='max', save_best_only=True)]\n",
    "\n",
    "loss_model_filename = 'vgg16_best_loss.h5'\n",
    "loss_checkpoint_path = os.path.join(vgg_dir, loss_model_filename)\n",
    "\n",
    "vgg16_loss = [ModelCheckpoint(filepath=loss_checkpoint_path, monitor='val_loss', mode='min', save_best_only=True)]\n"
   ]
  },
  {
   "cell_type": "markdown",
   "id": "adjacent-serve",
   "metadata": {},
   "source": [
    "## Entrenamiento"
   ]
  },
  {
   "cell_type": "code",
   "execution_count": null,
   "id": "listed-toolbox",
   "metadata": {},
   "outputs": [],
   "source": [
    "STEP_SIZE_TRAIN=training_set.n//training_set.batch_size\n",
    "STEP_SIZE_VALID=valid_set.n//valid_set.batch_size\n",
    "\n",
    "history = model.fit_generator(training_set,\n",
    "                             steps_per_epoch = STEP_SIZE_TRAIN,\n",
    "                             epochs = epochs,\n",
    "                             validation_data = valid_set,    \n",
    "                             validation_steps = STEP_SIZE_VALID,\n",
    "                             callbacks=[vgg16_times, vgg16_accuracy, vgg16_loss])"
   ]
  },
  {
   "cell_type": "markdown",
   "id": "ongoing-correspondence",
   "metadata": {},
   "source": [
    "## Tiempo de Ejecución"
   ]
  },
  {
   "cell_type": "code",
   "execution_count": null,
   "id": "concrete-founder",
   "metadata": {},
   "outputs": [],
   "source": [
    "epocas = []\n",
    "vgg16_eptime = vgg16_times.logs\n",
    "for i in range(len(vgg16_eptime)):\n",
    "    epocas.append(i + 1)"
   ]
  },
  {
   "cell_type": "code",
   "execution_count": null,
   "id": "electrical-smith",
   "metadata": {},
   "outputs": [],
   "source": [
    "acc = history.history['accuracy']\n",
    "mean_acc = statistics.mean(acc)\n",
    "resultados_train_acc.append(mean_acc)\n",
    "\n",
    "loss = history.history['loss']\n",
    "mean_loss = statistics.mean(loss)\n",
    "resultados_loss.append(mean_loss)\n",
    "\n",
    "val_acc = history.history['val_accuracy']\n",
    "mean_val_acc = statistics.mean(val_acc)\n",
    "resultados_val_acc.append(mean_val_acc)\n",
    "\n",
    "val_loss = history.history['val_loss']\n",
    "mean_val_loss = statistics.mean(val_loss)\n",
    "resultados_val_loss.append(mean_val_loss)\n",
    "\n",
    "mean_time = statistics.mean(vgg16_times.logs)\n",
    "\n",
    "datos = list(zip(epocas, vgg16_eptime, acc, loss, val_acc, val_loss))\n",
    "vgg16_df = pd.DataFrame(datos, columns = ['Epoca', 'Tiempo', 'Accuracy', 'Loss', 'Val Accuracy', 'Val Loss'])\n",
    "\n",
    "\n",
    "new_row = {'Epoca': 'Promedios', 'Tiempo': mean_time, 'Accuracy': mean_acc, 'Loss': mean_loss, 'Val Accuracy': mean_val_acc, 'Val Loss': mean_val_loss}\n",
    "vgg16_df = vgg16_df.append(new_row, ignore_index=True)\n",
    "resultados_time.append(mean_time)\n",
    "print(vgg16_df)\n",
    "v_dir = os.path.join(vgg_dir, 'vgg16.csv')\n",
    "vgg16_df.to_csv(v_dir, index = False)"
   ]
  },
  {
   "cell_type": "code",
   "execution_count": null,
   "id": "extensive-approval",
   "metadata": {},
   "outputs": [],
   "source": [
    "fig = plt.figure()\n",
    "plt.plot(epocas, vgg16_eptime)\n",
    "plt.title('vgg16, Tiempo por epoca')\n",
    "plt.xlabel('Epoca')\n",
    "plt.ylabel('Tiempo (s)')\n",
    "plt.show()\n",
    "v_dir = os.path.join(vgg_dir, 'vgg16_time.png')\n",
    "fig.savefig(v_dir)"
   ]
  },
  {
   "cell_type": "markdown",
   "id": "three-complement",
   "metadata": {},
   "source": [
    "### Eliminando el primer dato"
   ]
  },
  {
   "cell_type": "code",
   "execution_count": null,
   "id": "hungry-variance",
   "metadata": {},
   "outputs": [],
   "source": [
    "fig = plt.figure()\n",
    "plt.plot(epocas[1:], vgg16_eptime[1:])\n",
    "plt.title('vgg16, Tiempo por epoca, eliminando primer epoca')\n",
    "plt.xlabel('Epoca')\n",
    "plt.ylabel('Tiempo (s)')\n",
    "plt.show()\n",
    "v_dir = os.path.join(vgg_dir, 'vgg16_time2.png')\n",
    "fig.savefig(v_dir)"
   ]
  },
  {
   "cell_type": "markdown",
   "id": "registered-stuff",
   "metadata": {},
   "source": [
    "## Proceso de Entrenamiento"
   ]
  },
  {
   "cell_type": "code",
   "execution_count": null,
   "id": "accepting-requirement",
   "metadata": {},
   "outputs": [],
   "source": [
    "fig = plt.figure()\n",
    "plt.plot(history.history['loss'])\n",
    "plt.plot(history.history['val_loss'])\n",
    "plt.title('Loss en epocas - VGG 16')\n",
    "plt.ylabel('Loss')\n",
    "plt.xlabel('Epoca')\n",
    "plt.legend(['Entrenamiento', 'Validacion'], loc='best')\n",
    "plt.show()\n",
    "v_dir = os.path.join(vgg_dir, 'entrena_loss_vgg16.png')\n",
    "fig.savefig(v_dir)"
   ]
  },
  {
   "cell_type": "code",
   "execution_count": null,
   "id": "focused-grass",
   "metadata": {},
   "outputs": [],
   "source": [
    "fig = plt.figure()\n",
    "plt.plot(history.history['accuracy'])\n",
    "plt.plot(history.history['val_accuracy'])\n",
    "plt.title('Accuracy en epocas - VGG 16')\n",
    "plt.ylabel('accuracy')\n",
    "plt.xlabel('Epoca')\n",
    "plt.legend(['Entrenamiento', 'Validacion'], loc='best')\n",
    "plt.show()\n",
    "v_dir = os.path.join(vgg_dir, 'entrena_accuracy_vgg16.png')\n",
    "fig.savefig(v_dir)"
   ]
  },
  {
   "cell_type": "markdown",
   "id": "restricted-liberia",
   "metadata": {},
   "source": [
    "## Prueba"
   ]
  },
  {
   "cell_type": "code",
   "execution_count": null,
   "id": "supposed-belle",
   "metadata": {},
   "outputs": [],
   "source": [
    "model = keras.models.load_model(acc_checkpoint_path)\n",
    "acc_result = model.evaluate(test_set)\n",
    "result_acc = acc_result[1]*100\n",
    "print(result_acc)\n",
    "print(acc_checkpoint_path)\n",
    "\n",
    "model = keras.models.load_model(loss_checkpoint_path)\n",
    "loss_result = model.evaluate(test_set)\n",
    "result_loss = loss_result[1]*100\n",
    "print(result_loss)\n",
    "print(loss_checkpoint_path)"
   ]
  },
  {
   "cell_type": "code",
   "execution_count": null,
   "id": "scenic-nepal",
   "metadata": {},
   "outputs": [],
   "source": [
    "if result_acc >= result_loss:\n",
    "    final_model = keras.models.load_model(acc_checkpoint_path)\n",
    "    result = result_acc\n",
    "    resultados_acc.append(result)\n",
    "    print('acc')\n",
    "else:\n",
    "    final_model = keras.models.load_model(loss_checkpoint_path)\n",
    "    result = result_loss\n",
    "    resultados_acc.append(result)\n",
    "    print('loss')"
   ]
  },
  {
   "cell_type": "markdown",
   "id": "compliant-elimination",
   "metadata": {},
   "source": [
    "# NASNetMobile"
   ]
  },
  {
   "cell_type": "markdown",
   "id": "protecting-invalid",
   "metadata": {},
   "source": [
    "## Modelo"
   ]
  },
  {
   "cell_type": "code",
   "execution_count": 17,
   "id": "suffering-slope",
   "metadata": {},
   "outputs": [
    {
     "name": "stdout",
     "output_type": "stream",
     "text": [
      "Model: \"functional_1\"\n",
      "_________________________________________________________________\n",
      "Layer (type)                 Output Shape              Param #   \n",
      "=================================================================\n",
      "input_2 (InputLayer)         [(None, 50, 50, 1)]       0         \n",
      "_________________________________________________________________\n",
      "NASNet (Functional)          (None, 2, 2, 1056)        4269140   \n",
      "_________________________________________________________________\n",
      "global_average_pooling2d (Gl (None, 1056)              0         \n",
      "_________________________________________________________________\n",
      "dense (Dense)                (None, 1)                 1057      \n",
      "=================================================================\n",
      "Total params: 4,270,197\n",
      "Trainable params: 4,233,459\n",
      "Non-trainable params: 36,738\n",
      "_________________________________________________________________\n"
     ]
    }
   ],
   "source": [
    "base_xception = NASNetMobile(weights=None,\n",
    "                            include_top = False,\n",
    "                            input_shape = input_shape)\n",
    "\n",
    "\n",
    "inputs = Input(shape=input_shape)\n",
    "base_xception = base_xception(inputs)\n",
    "pooling = layers.GlobalAveragePooling2D()(base_xception)\n",
    "outputs = Dense(units = final_neur, activation = 'sigmoid')(pooling)\n",
    "model = Model(inputs=inputs, outputs=outputs)\n",
    "    \n",
    "model.summary()"
   ]
  },
  {
   "cell_type": "code",
   "execution_count": 18,
   "id": "interesting-benchmark",
   "metadata": {},
   "outputs": [],
   "source": [
    "opt = tf.keras.optimizers.Adam(learning_rate=0.001)\n",
    "model.compile(optimizer = opt,\n",
    "              loss = 'binary_crossentropy',\n",
    "              metrics = ['accuracy'])"
   ]
  },
  {
   "cell_type": "markdown",
   "id": "italic-comment",
   "metadata": {},
   "source": [
    "#### Callbacks"
   ]
  },
  {
   "cell_type": "code",
   "execution_count": 19,
   "id": "adaptive-toronto",
   "metadata": {},
   "outputs": [],
   "source": [
    "xception_times = TimingCallback()\n",
    "\n",
    "\n",
    "acc_model_filename = 'NASNetMobile_best_accuracy.h5'\n",
    "acc_checkpoint_path = os.path.join(xception_dir, acc_model_filename)\n",
    "\n",
    "xception_accuracy = [ModelCheckpoint(filepath=acc_checkpoint_path, monitor='val_accuracy', mode='max', save_best_only=True)]\n",
    "\n",
    "loss_model_filename = 'NASNetMobile_loss.h5'\n",
    "loss_checkpoint_path = os.path.join(xception_dir, loss_model_filename)\n",
    "\n",
    "xception_loss = [ModelCheckpoint(filepath=loss_checkpoint_path, monitor='val_loss', mode='min', save_best_only=True)]\n"
   ]
  },
  {
   "cell_type": "markdown",
   "id": "fitting-logic",
   "metadata": {},
   "source": [
    "## Entrenamiento"
   ]
  },
  {
   "cell_type": "code",
   "execution_count": 20,
   "id": "extra-terrain",
   "metadata": {},
   "outputs": [
    {
     "name": "stdout",
     "output_type": "stream",
     "text": [
      "WARNING:tensorflow:From <ipython-input-20-b092d18f8272>:9: Model.fit_generator (from tensorflow.python.keras.engine.training) is deprecated and will be removed in a future version.\n",
      "Instructions for updating:\n",
      "Please use Model.fit, which supports generators.\n",
      "Epoch 1/100\n",
      "274/274 [==============================] - 78s 284ms/step - loss: 0.1575 - accuracy: 0.9396 - val_loss: 0.7413 - val_accuracy: 0.6751\n",
      "Epoch 2/100\n",
      "274/274 [==============================] - 74s 271ms/step - loss: 0.0773 - accuracy: 0.9717 - val_loss: 0.7272 - val_accuracy: 0.5047\n",
      "Epoch 3/100\n",
      "274/274 [==============================] - 74s 272ms/step - loss: 0.0622 - accuracy: 0.9768 - val_loss: 0.8260 - val_accuracy: 0.50640.0643 - accuracy: - ETA: 13s - loss: 0.0640 - a - ETA: 10s - loss: 0.0\n",
      "Epoch 4/100\n",
      "274/274 [==============================] - 96s 349ms/step - loss: 0.0535 - accuracy: 0.9803 - val_loss: 1.0421 - val_accuracy: 0.49667s - loss: 0.0554 - accuracy: 0.9 - ETA: 37s - loss: 0.0555 - accuracy - ETA: 36s - loss: 0.0555 - accuracy:  - ETA: 35s - loss: 0.0549 - accur - ETA: 33s - loss: 0.0543 - accuracy: 0. -  - ETA - ETA: 5s - loss: 0.0 - ETA: 2s - l\n",
      "Epoch 5/100\n",
      "274/274 [==============================] - 86s 315ms/step - loss: 0.0467 - accuracy: 0.9830 - val_loss: 1.4145 - val_accuracy: 0.4966\n",
      "Epoch 6/100\n",
      "274/274 [==============================] - 76s 277ms/step - loss: 0.0433 - accuracy: 0.9839 - val_loss: 1.2963 - val_accuracy: 0.49660.0431 - - ETA: 26s - loss: 0.0428 - accurac - ETA: 25s - loss: 0.0437 -  - ETA: 22s - loss: 0.0435 - accu - ETA: 19s - loss: 0.0432 - accura - ETA: 18s - loss: 0.0429  - ETA: 14s - loss: 0.0436 - - ETA: 11s - loss: 0.0434 - accur - ETA: 9s - ETA: 6s - loss: 0.0426 - accura - ETA: 5s - loss: 0.0425 - accuracy: 0.98 - ETA: 5s - - ETA: 2s - loss:\n",
      "Epoch 7/100\n",
      "274/274 [==============================] - 76s 278ms/step - loss: 0.0409 - accuracy: 0.9855 - val_loss: 1.8799 - val_accuracy: 0.4966ss: 0.0409 - accuracy:  - ETA: 1s - loss: 0.0409 \n",
      "Epoch 8/100\n",
      "274/274 [==============================] - 77s 279ms/step - loss: 0.0405 - accuracy: 0.9855 - val_loss: 1.6436 - val_accuracy: 0.4966 - ETA: 31s - loss: 0.03 - ETA: 27s - loss:  - ETA: 14s - loss: 0.0402 - accuracy:  - ETA: 13s - loss: 0. - ETA: 4s - los - ETA: 2s - loss: 0\n",
      "Epoch 9/100\n",
      "274/274 [==============================] - 76s 276ms/step - loss: 0.0397 - accuracy: 0.9860 - val_loss: 1.6634 - val_accuracy: 0.4966412 - accuracy: 0.98 - ETA: 24s - loss: 0.0415 - accur - ET\n",
      "Epoch 10/100\n",
      "274/274 [==============================] - 76s 277ms/step - loss: 0.0370 - accuracy: 0.9871 - val_loss: 1.7428 - val_accuracy: 0.4966oss: 0.03 - ETA: 26s - loss: 0.0377 - ETA: 8s - l - ETA: 5s - loss: 0.0369 - accu\n",
      "Epoch 11/100\n",
      "274/274 [==============================] - 77s 281ms/step - loss: 0.0342 - accuracy: 0.9871 - val_loss: 1.5150 - val_accuracy: 0.4966 29s - - ETA: 8s - ETA: 4s - loss: 0.0344  - ETA: 3s - loss: 0.0347 - accuracy:  - ETA: 2s - los\n",
      "Epoch 12/100\n",
      "274/274 [==============================] - 76s 277ms/step - loss: 0.0343 - accuracy: 0.9875 - val_loss: 1.6893 - val_accuracy: 0.4966.0338 - ETA: 16s -  - ETA: 10s - loss: 0.0344 - a - ETA: 8s - loss: 0.0346 - accu - ETA: 7s - ETA: 4s - loss: 0.0343 - accura - ETA: 3s - loss: 0.0343 - accu - ETA: 2s - loss: 0.0343  - ETA: 0s - loss: 0.0343 - accuracy: 0. - ETA: 0s - loss: 0.0343 - accuracy: 0.\n",
      "Epoch 13/100\n",
      "274/274 [==============================] - 89s 326ms/step - loss: 0.0345 - accuracy: 0.9878 - val_loss: 1.6140 - val_accuracy: 0.496633s - loss: 0.0321 - accuracy: 0.9 - ETA: 32s - loss: 0.0321 - accurac - ETA: 31s - loss: 0.0331 - accuracy: 0.98 - ETA: 30s - loss: 0.0331 - accuracy: 0.987 - ETA: 30s - loss: 0.0 - ETA: 26s - loss: 0.0322 -  - ETA: 23s - loss: 0 - ETA: 19s - loss: 0.0320 - accuracy: 0.9 - ETA: 18s - los - ETA: 13s \n",
      "Epoch 14/100\n",
      "274/274 [==============================] - 91s 332ms/step - loss: 0.0317 - accuracy: 0.9888 - val_loss: 1.5041 - val_accuracy: 0.4966\n",
      "Epoch 15/100\n",
      "274/274 [==============================] - 77s 279ms/step - loss: 0.0311 - accuracy: 0.9890 - val_loss: 1.8914 - val_accuracy: 0.4966loss: 0.02 - ETA: 32s - loss: 0.0297 -  - ETA: - - ETA: 3s - los - ETA: 0s - loss: 0.0311 - accu\n",
      "Epoch 16/100\n",
      "274/274 [==============================] - 77s 282ms/step - loss: 0.0310 - accuracy: 0.9888 - val_loss: 2.2407 - val_accuracy: 0.4966308 - accur - ETA: 30s - loss: 0.0317 - accurac - ETA: 20s - loss: 0.0318 - accuracy: - ETA: 19s - loss: 0.0315 - accuracy: 0. - ETA: 18s - loss: 0.0313 - acc - ETA: 15s - loss:  - ETA: 1s - loss: 0.0311 - accuracy: 0. - ETA: 1s - loss: 0.0311 - accuracy: 0. - ETA: 0s - loss: 0.0310 - accu\n",
      "Epoch 17/100\n",
      "274/274 [==============================] - 76s 279ms/step - loss: 0.0305 - accuracy: 0.9892 - val_loss: 2.4441 - val_accuracy: 0.4966 - loss: 0.0305 - accuracy: 0.9 - ETA: 28s - loss: 0.0302 - accurac - ETA: 26s - loss: - ETA: 21s - loss: 0.0307 - accura - ETA: 20s - loss: 0.0299 - accuracy: 0.9 - ETA: 19s - loss: 0.0298 - accuracy: 0. - ETA: 18 - ETA: 12s - - ETA: 8s - los - ETA: 5s - loss: 0.0299 - ac - ETA: 4s - loss: 0.0303 - accuracy - ETA: \n",
      "Epoch 18/100\n",
      "274/274 [==============================] - 76s 277ms/step - loss: 0.0294 - accuracy: 0.9897 - val_loss: 2.0191 - val_accuracy: 0.4966- loss: 0.0293 - \n",
      "Epoch 19/100\n",
      "274/274 [==============================] - 75s 275ms/step - loss: 0.0283 - accuracy: 0.9900 - val_loss: 1.6294 - val_accuracy: 0.4966: 38s - loss: 0.0307 - accu - ETA: 36s - loss: 0.0317 - acc - ETA: 34s - loss: 0.029 - ETA: 31s - loss: 0.0275 - accuracy: 0 - ETA: 30s - loss: 0.0278 -  - ETA: 19s - loss: 0.0276 - accuracy: - ETA: 18s - loss: 0.0274 -  - ETA: 15s - loss: 0 - ETA: 6s - l - ETA: \n",
      "Epoch 20/100\n",
      "274/274 [==============================] - 76s 276ms/step - loss: 0.0285 - accuracy: 0.9895 - val_loss: 1.9235 - val_accuracy: 0.4966 - ETA: 22s - loss: 0.0284 - accuracy: 0.989 -  - ETA: 7s - loss: 0.0 - ETA: 5s - loss: 0.0281 - accuracy - ETA: 4s - loss: 0.0281 - accura\n",
      "Epoch 21/100\n",
      "274/274 [==============================] - 76s 279ms/step - loss: 0.0263 - accuracy: 0.9900 - val_loss: 1.8859 - val_accuracy: 0.49666s - loss: 0.0260 - - ETA:  - ETA: 8s - loss: 0.0266 -  - ETA: 7s - loss: 0.0264 - accu - ETA: 5s - loss: 0.0262 - accuracy:  - ETA: 5s - loss: 0.0262 -  - ETA: 3s - loss: 0.0264 - ac - ETA: 2s - loss: 0.0264 - accura - ETA: 1s - loss: 0.0264 - accu - ETA: 0s - loss: 0.0262 - accuracy: \n",
      "Epoch 22/100\n",
      "274/274 [==============================] - 75s 275ms/step - loss: 0.0278 - accuracy: 0.9907 - val_loss: 1.7490 - val_accuracy: 0.4966: 0.0292 - accuracy: 0 - ETA: 18s - loss: 0.0292 - accuracy: 0 - ETA: 17s - - ET - ETA: 2s - loss: 0.0276 - accuracy:  - ETA: 1s - loss: 0.0277 - accura - ETA: 0s - loss: 0.0276 - accu\n",
      "Epoch 23/100\n",
      "274/274 [==============================] - 76s 277ms/step - loss: 0.0271 - accuracy: 0.9900 - val_loss: 2.1274 - val_accuracy: 0.4966- loss: 0.0251 - accuracy:  - ETA: 38s - loss - ETA: 33s - loss: 0.0259 - accuracy:  - ETA: 32s - loss: 0.0262 - accuracy: 0. - ETA: 0s - loss: 0.0271 - accuracy: 0.99\n",
      "Epoch 24/100\n",
      "274/274 [==============================] - 76s 276ms/step - loss: 0.0268 - accuracy: 0.9902 - val_loss: 2.2803 - val_accuracy: 0.4966 - ETA: 24s - los - ETA: 18s - loss: 0.0253 - accura - ETA: 0s - loss: 0.0270 - accuracy - ETA: 0s - loss: 0.0268 - accuracy: 0.99\n",
      "Epoch 25/100\n",
      "274/274 [==============================] - 75s 275ms/step - loss: 0.0252 - accuracy: 0.9910 - val_loss: 1.8459 - val_accuracy: 0.4966.9 - ETA: 14s - loss: 0.0261 - acc - ETA: 12s - loss: 0.0256 - accuracy: 0. - ETA: 11s - loss: 0\n",
      "Epoch 26/100\n",
      "274/274 [==============================] - 93s 338ms/step - loss: 0.0263 - accuracy: 0.9905 - val_loss: 1.9942 - val_accuracy: 0.4969oss: 0.0231 - accu - ETA: 38s - loss: 0.0224 - accuracy: - ETA: 37s - loss: 0.0226 - accur - ETA: 35s - lo - ETA: 30s - loss: 0.0228 - acc - ETA: 28s - loss: 0.0233 - accu - ETA: 26s - loss: 0.0240 - accuracy - ETA: 25s - loss: 0.0245 - accuracy:  - ETA: 23s - loss: 0.0245 - accuracy: 0.9 - ETA: 23s - loss: 0.0247 - accuracy - ETA: 21s - loss: 0.0253 - accuracy: 0.99 - ETA: 21s - loss: 0.0253 - accuracy: 0.9 - ETA: 20s - los\n",
      "Epoch 27/100\n",
      "274/274 [==============================] - 83s 302ms/step - loss: 0.0256 - accuracy: 0.9905 - val_loss: 1.3542 - val_accuracy: 0.5160accuracy:  - ETA: 41s - loss: 0.0234 - accurac - ETA: 39s - loss: 0.0232 - accuracy - ETA: 38s - loss: 0.0233 -  - ETA: 35s - loss: 0.0226 - accuracy:  - ETA: 34s - loss: 0.0232 - accur\n",
      "Epoch 28/100\n",
      "274/274 [==============================] - 78s 286ms/step - loss: 0.0253 - accuracy: 0.9907 - val_loss: 2.1155 - val_accuracy: 0.5076 32s - loss: 0.0232 - accuracy: 0 - ETA: 31s - loss: 0.0230  - ETA: 28s - loss: 0.0226 - accuracy: 0.991 - ETA: 28s - loss: 0.0226 - accuracy: - ETA: 27s - loss: 0.0230 - acc - ETA: 25s - loss: 0.0233 - accuracy: 0 - ETA: 24s - loss: 0.0236 - accur - ETA: 22s - loss: 0.0236 - accuracy: 0. - ETA: 21s - loss: 0.0235 - accuracy: 0.9 - ETA: 20s - loss\n",
      "Epoch 29/100\n",
      "274/274 [==============================] - 81s 294ms/step - loss: 0.0240 - accuracy: 0.9908 - val_loss: 2.2295 - val_accuracy: 0.5162 - loss: 0.023 - ETA: 24s - loss: 0.02 - ETA: 20s - loss: 0.0229  - ET - ETA: 9s - loss: 0.0234 - accuracy: 0. - ETA: 9s - loss: 0 - ETA: 6s - loss: 0.0236 - ac - E - ETA: 1s - loss: 0.0239 - ac\n",
      "Epoch 30/100\n",
      "274/274 [==============================] - 81s 295ms/step - loss: 0.0241 - accuracy: 0.9916 - val_loss: 1.8252 - val_accuracy: 0.5478 loss - ETA: 43s - loss: 0.0209 - accuracy: 0 - ETA: 42s - loss: 0.0205 - accuracy: 0.99 - ETA: 42s - loss: 0.0204 - accur - ETA: 40s - loss: 0.0212 - accuracy:  - ETA: 39s - loss: 0.0219 - accuracy - ETA: 38s - loss: 0.0222 - acc - ETA: 36s - loss:  - ETA: 31 - ETA: 24s - loss: 0.0227 - accuracy: 0 - ETA: 23s - loss: 0.0227 - accur - ETA: 21s  - ETA: 14s - loss: 0.0230 - accuracy:  - ETA: 13s - loss: 0.0228 - accuracy: 0.992 - ETA: 13s - loss:\n",
      "Epoch 31/100\n",
      "274/274 [==============================] - 81s 294ms/step - loss: 0.0249 - accuracy: 0.9911 - val_loss: 2.5277 - val_accuracy: 0.5687: 45s - loss: 0.0173 - accuracy: 0.995 - ETA: 46s  - ETA: 45s - loss: 0.0231 - accuracy - ETA: 44s - loss: 0 - ETA: 39s - loss: 0 - ETA: 35s - loss - ETA: 29s - loss: 0.0242 - accuracy: - ETA: 28s - loss: 0.024 - - ETA\n",
      "Epoch 32/100\n",
      "274/274 [==============================] - 82s 300ms/step - loss: 0.0231 - accuracy: 0.9916 - val_loss: 2.6158 - val_accuracy: 0.5975 - loss: 0.0223 - accuracy:  - ETA: 30s - loss: 0.0221 - accuracy: 0.99 - ETA: 3 - ETA: 22s - loss: 0.02 - ETA: 0s - loss: 0.0232 - accuracy: \n",
      "Epoch 33/100\n",
      "274/274 [==============================] - 81s 295ms/step - loss: 0.0223 - accuracy: 0.9918 - val_loss: 3.0371 - val_accuracy: 0.613845s - loss: 0.0132 - accuracy: 0 - ETA: 47s - loss: 0.0146 - accuracy: 0.99 - ETA: 47s - loss: 0.0136 - accuracy: 0.99 - ETA: 47s - l - ETA: 44s - loss: 0.0242 - accura - ETA: 42s - loss: 0.0237 - accurac - ETA: 41s - loss: 0.0227 - accuracy: - ETA:  - ETA: 23s - loss:  - ETA: 18s - loss: 0.0221 - accuracy: 0.99 - ETA: 18s - loss: 0.0222 - accur - ETA: 16s - loss: 0.0221 - accurac - ETA: 2s - loss: 0.0220 - accu - ETA: 1s - loss: 0.0218 - accuracy - ETA: 0s - loss: 0.0219 - accura\n",
      "Epoch 34/100\n",
      "274/274 [==============================] - 87s 318ms/step - loss: 0.0225 - accuracy: 0.9919 - val_loss: 2.9145 - val_accuracy: 0.63740s - loss: 0.0229 - accuracy - ETA: 5s - loss: 0.0228 - accu - ETA: 4s - loss: 0.022 - ETA: 2s - loss: 0\n",
      "Epoch 35/100\n",
      "274/274 [==============================] - 97s 354ms/step - loss: 0.0216 - accuracy: 0.9927 - val_loss: 2.0505 - val_accuracy: 0.6582uracy: 0.99 -\n",
      "Epoch 36/100\n",
      "274/274 [==============================] - 81s 295ms/step - loss: 0.0221 - accuracy: 0.9919 - val_loss: 3.1031 - val_accuracy: 0.6678A: 46s - loss: 0.022 - ETA: 44 - ETA: 30s - loss: 0.0219 - accuracy: - ETA: 28s - loss: 0.0224 - ac - ETA: 26s - loss: 0.0223 - accu - ETA: 23s - loss: 0.0226  - ETA: 20s - loss: 0.0230 - ETA: 16s - loss: 0.0 - ETA: 11s - loss: 0.0226 - accu - ETA: 5s - - ETA: 1s - loss: 0.022\n",
      "Epoch 37/100\n",
      "274/274 [==============================] - 82s 300ms/step - loss: 0.0217 - accuracy: 0.9919 - val_loss: 2.1445 - val_accuracy: 0.7859.0196 - accuracy: 0. - ETA: 28s - loss: 0.0196 - accurac - ETA: 26s - loss: 0.0193 - accuracy: 0.99 - ETA: - ETA: 18s - loss: 0.0207 - accurac - ETA: 16s - loss: 0.02 - ETA: 12s - loss: 0.0217 - - ETA: 0s - loss: 0.0216 - accuracy: 0.\n",
      "Epoch 38/100\n",
      "274/274 [==============================] - 82s 300ms/step - loss: 0.0212 - accuracy: 0.9924 - val_loss: 2.1075 - val_accuracy: 0.7999 48s -  - ETA: 43s - loss: - ETA: 39s - loss - ETA: 33s - loss - ETA: 28s - loss: 0.0217 -  - ETA: 25s - loss: 0.0217 - - ETA: 2 - ETA: 14s - loss: 0.0228 - accuracy: - ETA: 13s - los - ETA: 8s - - ETA: 5s - loss: 0.0 - ETA: 3s -\n",
      "Epoch 39/100\n",
      "274/274 [==============================] - 81s 296ms/step - loss: 0.0206 - accuracy: 0.9931 - val_loss: 3.6872 - val_accuracy: 0.7537 accuracy: 0.9 - ETA: 45s - loss: 0.0207 - a - ETA: 43s - loss: 0.0203 - accurac - ETA: 41s - ETA: 35s - loss: 0.0192 -  - ETA: 32s - loss: 0.0194 - accuracy: 0.99 - ETA: 31s - loss: 0.0195 - accuracy: 0.9 - ETA: 31s - loss: 0.0196 - accurac - ETA: 29s - loss: 0.0193 - accu - ETA: 17s - l - ETA: 1s - loss: 0.0204 \n",
      "Epoch 40/100\n",
      "274/274 [==============================] - 81s 296ms/step - loss: 0.0220 - accuracy: 0.9923 - val_loss: 3.6203 - val_accuracy: 0.7060oss: 0.0238 - accuracy: 0 - ETA: 48s - loss: 0.0251 - accuracy - ETA: 47s - loss: 0.0254 - accuracy: 0.9 - ETA: 46s - loss: 0.0255 - accu -  - ETA: 36s - loss: 0.0228 - accuracy: 0.99 - ETA: 36s - loss: 0.0 - ETA: 32s - loss: 0.0234 - accuracy: 0 - ETA: 31s - loss: 0.0238 - accuracy: 0.99 - ETA: 30s - loss: 0.0238 - acc - ETA: 28s - loss: 0.0 - ETA: 2s - l\n",
      "Epoch 41/100\n",
      "274/274 [==============================] - 80s 293ms/step - loss: 0.0203 - accuracy: 0.9921 - val_loss: 2.9954 - val_accuracy: 0.7857 ETA: 41s - loss: 0.020 - ETA: 38s - loss: 0.0207 - ac - ETA: 35s - loss: 0.0206 - accuracy: 0.992 - ETA: 35s - loss: 0.0208 - acc - ETA: 32s - loss: 0.0214 - - ETA: 29s - loss: 0.0209 \n",
      "Epoch 42/100\n",
      "274/274 [==============================] - 81s 296ms/step - loss: 0.0191 - accuracy: 0.9928 - val_loss: 1.6678 - val_accuracy: 0.8687 - loss: 0.0215 - accu - ETA: 47s - los - ETA: 43s - loss: 0.0185 - accuracy:  - ETA: 42s - loss: 0.0179 - accuracy: - ETA: 41s - loss: 0.0174 - accuracy: - ETA: 40s - loss: 0.0178 - ac - ETA: 37s - loss: 0.0179 -  - ETA: 34 - ETA: 27s - loss: 0.0187 - acc - ETA: 24s - loss: 0.0182 - accuracy: 0.9 - ETA: 24s - loss: 0.0182 - accuracy: 0. - ETA: 23s - loss - ETA: 0s - loss: 0.0191 - accuracy: 0.\n",
      "Epoch 43/100\n",
      "274/274 [==============================] - 76s 277ms/step - loss: 0.0200 - accuracy: 0.9925 - val_loss: 2.4363 - val_accuracy: 0.8494 accuracy: 0.993 - ETA: 40s - loss: 0.0182 - accuracy: - ETA: 39s - loss: 0.0 - ETA: -  - ETA: - ETA:  - ETA: 4s - loss: 0.0201 - accu - ETA: 3s - loss: - ETA: 0s - loss: 0.0200 - accuracy: 0.99 - ETA: 0s - loss: 0.0201 - accuracy: 0.99 - ETA: 0s - loss: 0.0201 - accuracy: 0. - ETA: 0s - loss: 0.0201 - accuracy: 0.\n",
      "Epoch 44/100\n",
      "274/274 [==============================] - 77s 282ms/step - loss: 0.0193 - accuracy: 0.9928 - val_loss: 1.4298 - val_accuracy: 0.9210\n",
      "Epoch 45/100\n",
      "274/274 [==============================] - 76s 276ms/step - loss: 0.0195 - accuracy: 0.9926 - val_loss: 1.8007 - val_accuracy: 0.8992: 36s - loss - ETA: 32s - loss: 0.0192 - accuracy: 0. - ETA: 31s - loss: 0.0194 - accuracy: 0. - ETA: 30s - loss: 0.0195 - accuracy: 0 - ETA: 30s - loss: 0.0192 - accuracy:  - ETA: 28s - loss: 0. - ETA: 24s - loss - ETA: 19s - loss: 0.0176 - accuracy: - ETA - ETA: 2s - loss: 0\n",
      "Epoch 46/100\n"
     ]
    },
    {
     "name": "stdout",
     "output_type": "stream",
     "text": [
      "274/274 [==============================] - 75s 275ms/step - loss: 0.0185 - accuracy: 0.9933 - val_loss: 1.9050 - val_accuracy: 0.9128 ETA: 19s - loss: 0.01\n",
      "Epoch 47/100\n",
      "274/274 [==============================] - 76s 276ms/step - loss: 0.0174 - accuracy: 0.9934 - val_loss: 3.4795 - val_accuracy: 0.8454 37s - - ETA: 32s - loss: 0.0189 - accura - ETA: 22s - loss: 0.0183 - a - ETA: 19s - loss: 0.01 - ETA: 15s - loss: 0 - ETA: 11s - loss: 0.0177 -  - ETA: 4s - loss: 0.0176 -  - ETA: 3s - loss: 0.0176 - accuracy: 0. - ETA: 2s -\n",
      "Epoch 48/100\n",
      "274/274 [==============================] - 77s 280ms/step - loss: 0.0183 - accuracy: 0.9931 - val_loss: 3.5260 - val_accuracy: 0.8677accur - ETA: 23s - loss: 0.0160 - accuracy: 0.993 - ETA: 23s - ETA: 16s - loss: 0.0162 - accuracy: 0.993 - ETA: 16s - loss: 0.0164 - a - ETA: 13s - loss: 0.0169 - accu - ETA: 11s - loss: 0.0172 - acc - ETA: 5s - loss: 0.0178 - accuracy: 0.99 - ETA: 5s - loss: 0.0179 -  - ETA: 3s - loss: 0.0180 - accuracy:  - ETA: 2s - loss: 0.0180 - accuracy: 0. - ETA: 2s - los\n",
      "Epoch 49/100\n",
      "274/274 [==============================] - 75s 275ms/step - loss: 0.0195 - accuracy: 0.9929 - val_loss: 4.5596 - val_accuracy: 0.8633 - accuracy: 0. - ETA: 31s - loss: 0.0204 - accuracy: 0 - ETA: 30s - loss: 0.0201 - accuracy: 0.99 - ETA: 3 - ETA: 23s - ETA: 17s - loss: 0.0199 - accuracy: 0. - ETA: 16s - loss: 0.0198 - accuracy: 0.9 - ETA: 16s - loss: 0.0200 - accuracy: - ETA: 14s - loss: 0.0204 - accur - ETA: 12s - loss: 0.0201 - accuracy: 0.99 - ETA: 12s - los\n",
      "Epoch 50/100\n",
      "274/274 [==============================] - 77s 282ms/step - loss: 0.0172 - accuracy: 0.9937 - val_loss: 2.4659 - val_accuracy: 0.8882: 0.0174 - accuracy: - ETA: 22s - loss: 0.0179 - accuracy - ETA: 20s - loss: 0.0176 - ETA: 17s - loss: 0.01 - ETA: 13s - loss:  - - ETA: 0s - loss: 0.0172 - accu\n",
      "Epoch 51/100\n",
      "274/274 [==============================] - 95s 348ms/step - loss: 0.0178 - accuracy: 0.9934 - val_loss: 2.4271 - val_accuracy: 0.8932\n",
      "Epoch 52/100\n",
      "274/274 [==============================] - 77s 281ms/step - loss: 0.0181 - accuracy: 0.9934 - val_loss: 5.9225 - val_accuracy: 0.8236\n",
      "Epoch 53/100\n",
      "274/274 [==============================] - 77s 282ms/step - loss: 0.0174 - accuracy: 0.9935 - val_loss: 2.8675 - val_accuracy: 0.8990 - accuracy: 0 - ETA: 34s - loss: 0.0186 - accuracy:  - ETA: 33s - loss: 0.0184 - - ETA: 29s - los - ETA: 16s - loss: 0.0170 - - ETA: 13s - loss: 0.0169 - accuracy: 0.993 - ETA:  - ETA\n",
      "Epoch 54/100\n",
      "274/274 [==============================] - 76s 277ms/step - loss: 0.0170 - accuracy: 0.9940 - val_loss: 2.6168 - val_accuracy: 0.89180.0152 - accuracy: 0.99 - ETA: 42s - ETA: 29s - loss: 0.0177 - - ETA: 26s - ETA: 20s - loss: 0.0170  - ETA: 17s - loss: 0.01 - ETA: 7s - loss: 0.0172 - ac - ETA: 5s - loss: 0.017 - ETA: 4s - loss: 0.017 - ETA: 2s - loss: 0\n",
      "Epoch 55/100\n",
      "274/274 [==============================] - 76s 277ms/step - loss: 0.0168 - accuracy: 0.9937 - val_loss: 2.8535 - val_accuracy: 0.8780\n",
      "Epoch 56/100\n",
      "274/274 [==============================] - 77s 279ms/step - loss: 0.0171 - accuracy: 0.9936 - val_loss: 3.0660 - val_accuracy: 0.8718: 0.0181 - accuracy: -  - ETA: 28s - loss: 0.0174 - accu - ETA: 17s - loss: 0.0175 - accuracy:  - ETA: 16s - loss: 0.0174 - accuracy:\n",
      "Epoch 57/100\n",
      "274/274 [==============================] - 76s 278ms/step - loss: 0.0159 - accuracy: 0.9938 - val_loss: 3.2052 - val_accuracy: 0.8945TA: 36s - loss: 0.0152 - acc - ETA: 33s - loss: - ETA: 29s - loss: 0.0153 - accuracy:  - ETA: 19s - loss: 0.0 - ETA: 0s - loss: 0.0159 - accuracy: 0.99\n",
      "Epoch 58/100\n",
      "274/274 [==============================] - 97s 354ms/step - loss: 0.0159 - accuracy: 0.9941 - val_loss: 2.4362 - val_accuracy: 0.8743loss: 0.0161 - ac - ETA: 29s - loss: 0.0162 - accura - ETA: 27s - loss: 0.0160 - ac - ETA: 24s - loss: 0.0158 - accuracy: - - ETA:  - ETA: 4s - loss: 0 - ETA: 2s - loss: 0\n",
      "Epoch 59/100\n",
      "274/274 [==============================] - 86s 313ms/step - loss: 0.0163 - accuracy: 0.9939 - val_loss: 2.0395 - val_accuracy: 0.8679\n",
      "Epoch 60/100\n",
      "274/274 [==============================] - 75s 275ms/step - loss: 0.0151 - accuracy: 0.9944 - val_loss: 5.0428 - val_accuracy: 0.900537s - loss: 0.0149 - accura - ETA: 35s - loss: 0.0140 - accuracy:  - ETA: 34s - loss: 0.0142 - accuracy:  - ETA: 33s - loss: 0.0140 - a - ETA: 31s - loss: 0.0140 - accuracy:  - ETA: 30s - loss: 0.0138  - ETA: 26s - loss: 0.0133 - accuracy: 0.9 - ETA: 26s - l - ETA: 20s - loss: 0.0136 - accuracy: 0.9 - ETA: 20s - loss: 0.0137 - accuracy:  - ETA: 19s - loss: 0.0137 - accuracy: 0.994 - ETA: 18s - loss: 0.0137 - accuracy: 0.  - ETA: 5s - loss: 0.0150 - accu - ETA: 4s - loss: 0.0150 -  - ETA: 3s - loss: 0.0149 - accuracy:  - ETA: 2s - loss: 0.0149 - accuracy: 0.99 - ETA: 2s - loss:\n",
      "Epoch 61/100\n",
      "274/274 [==============================] - 75s 275ms/step - loss: 0.0174 - accuracy: 0.9937 - val_loss: 2652.3228 - val_accuracy: 0.52971s - loss:  - ETA: 27s - loss: 0.0163 - accuracy:  - ETA: 25s - loss: 0.0161 - accurac - ETA: 24s - loss: 0.0161 - - ETA: 21s - loss: 0.0162 - accu - ETA: 18s - loss: 0.0163 - acc - ETA: 16s - loss: 0.0166 - accuracy - ETA: 15s - loss: 0.0165 - accuracy: 0 - ETA: 14s - loss: 0.0166 - accuracy: 0 - ETA: 13s - loss: 0.0169 - accur - ETA: 11s - loss: 0.0170 - accur - ETA: 9s - loss: 0.0171 - accuracy: 0.99 - ETA - ETA: 5s - loss: 0.0175 - accuracy:  - ETA:  - ETA: 1s - loss: 0.017\n",
      "Epoch 62/100\n",
      "274/274 [==============================] - 75s 275ms/step - loss: 0.0162 - accuracy: 0.9943 - val_loss: 1329.1200 - val_accuracy: 0.5128:  - ETA: 24s - ETA: 18s - loss: 0.0155 - accuracy: 0 - ETA: 17s - loss: 0.0156 - accur - ETA: 15s - loss: 0.0157 - accur - ETA: 13s - loss: 0.0159 -  - ETA: 1s - loss: 0.0162 \n",
      "Epoch 63/100\n",
      "274/274 [==============================] - 75s 275ms/step - loss: 0.0161 - accuracy: 0.9942 - val_loss: 561.7560 - val_accuracy: 0.634739s - ETA: 33s - loss: 0.0161 - acc - ETA: 31s - loss: 0.0168 - accu - ETA: 29s - loss: 0.0171 - accurac - ETA: 27s - loss - ETA: 23s - loss: 0.0161 - accuracy:  - ETA: 22s - loss: 0.0160 - accuracy: 0.994 - ETA: 21s - loss: 0.0159 - accuracy:  - ETA: 20s - loss: 0.0159 - accuracy:  - ETA: 19s - loss: 0.0163 - accur - ETA: 17s - loss: 0.0 - ETA: 13s - loss: 0.0154 - accuracy: 0. - ETA: 12s - loss: 0.0156 - accuracy: 0.9 - ETA: 12s - loss: 0.0157 - ETA: 9s - loss: 0.0156 - accu - ETA:  - ETA: 4s - loss: 0.0160 - accuracy: 0. - ETA: 4s - loss: 0.016 - ETA: 2s - los\n",
      "Epoch 64/100\n",
      "274/274 [==============================] - 75s 274ms/step - loss: 0.0146 - accuracy: 0.9945 - val_loss: 165.1456 - val_accuracy: 0.7108115 - accurac - ETA: 35s - l - ETA: - ETA: 24s - loss: 0.0130 - accuracy: 0.9 - ETA: 23s - loss: 0.0129 - accura - ETA: 21s - loss: 0.0132 - accuracy: - ETA: 20s - loss: 0.0132 - ac - ETA: 17s - loss: 0.0132 - ETA: 14s - loss: 0.0132 - accuracy: 0.99 - ETA: 14s - los - ETA: 0s - loss: 0.0145 - accura\n",
      "Epoch 65/100\n",
      "274/274 [==============================] - 75s 275ms/step - loss: 0.0160 - accuracy: 0.9936 - val_loss: 88.7023 - val_accuracy: 0.7852 loss: 0.0145 - accuracy: 0.99 - ETA: 26s -  - ETA: 21s - loss: 0.0144 - ETA: 9s - loss: 0.0154 -  - ETA: 8s - loss: 0.0155 - ac - ETA: 6s - ETA: 3s - loss: 0 - ETA: 1s - loss: 0.0160 - \n",
      "Epoch 66/100\n",
      "274/274 [==============================] - 76s 276ms/step - loss: 0.0158 - accuracy: 0.9937 - val_loss: 163.8173 - val_accuracy: 0.7548A: 37s - loss: 0.0156 - accuracy: - ETA: 36s - loss: 0.0153 - accura - ETA: 35s - loss: 0.0152 - accuracy: 0. - ETA: 34s - loss: 0.0151 - accuracy: - ETA: 33s - loss: 0.0157 - accuracy: 0 - ETA: 32s - loss: 0.0153 - accura - ETA: 30 - ETA: 24s - loss: 0.0155 - accuracy: - ETA: 22s - loss: 0.0155   - ETA: 11s - loss: 0.0157 - accuracy: 0.99 - ETA: 10s - loss: 0.0156 - a - E - ETA: 0s - loss: 0.0157 - accu\n",
      "Epoch 67/100\n",
      "274/274 [==============================] - 75s 273ms/step - loss: 0.0157 - accuracy: 0.9942 - val_loss: 89.8723 - val_accuracy: 0.7942 accuracy:  - E - ETA: 34s - loss: 0.0158 -  - ETA: 31s - loss: 0.0159 - accuracy:  - ETA: 30s - loss: 0.0160 - accuracy: 0. - ETA: 30s  - ETA: 24s - ETA: 18s - loss: 0.0147 -\n",
      "Epoch 68/100\n",
      "274/274 [==============================] - 75s 275ms/step - loss: 0.0152 - accuracy: 0.9941 - val_loss: 90.7608 - val_accuracy: 0.7875s: 0.0143  - ETA: 34s - loss: 0.0143 - accuracy: 0.9 - ETA: 34s - l - ETA: 29s - loss: 0.01 - ETA: 25s - loss: 0.0152 - accura - ETA: 23s - l - ETA: 18s - loss: 0.0149 - accurac - ETA: 16s - loss: 0.0148 - accuracy: 0.994 - ETA: 16s - loss: 0.0149 - ac - ETA: 13s - lo - - ETA: 5s - loss: 0.0153 - accuracy: 0. - ETA: 4s - loss: 0.0153 - accuracy: 0. - ETA: 4s - loss: 0.0152 - ac - ETA: 3s\n",
      "Epoch 69/100\n",
      "274/274 [==============================] - 78s 285ms/step - loss: 0.0145 - accuracy: 0.9945 - val_loss: 41.0765 - val_accuracy: 0.7818oss: 0.0143 - accuracy - ETA: 23s - loss: 0.0139 - accuracy: 0.9 - ETA: 22s - loss: 0. - ETA: 18s - loss: 0.0134 - ETA: 15s - loss: 0.0132 - accura - ETA: 13s - loss: 0.0135 - a - ETA: 10s - loss: 0.0139 - accuracy - ETA: 9s - loss: 0.0141  - ETA: 7s - - ETA: 4s - loss: 0.0142 - accuracy:  - ETA: 4s - ETA: 0s - loss: 0.0145 - accura\n",
      "Epoch 70/100\n",
      "274/274 [==============================] - 77s 282ms/step - loss: 0.0145 - accuracy: 0.9943 - val_loss: 32.5429 - val_accuracy: 0.7627ss: 0.0111 - accuracy - ETA: 44s - loss: 0.0111 - accuracy:  - ETA: 43s - loss: 0.0115 - accuracy: - ETA: 42s - loss: 0.0112 - ETA: 39s - loss: 0.0119 - accu - ETA: 37s - loss: 0.0118 - a - ETA: 34s - loss: 0.0 - ETA: 30s - loss: 0.0109 - acc - ETA: 28s - loss: 0.0120 - accu - ETA: 26s - loss: 0.0129 - a - ETA: 23s - loss: 0.0133 - accuracy: 0.9 - ETA: 22s - loss: 0.0132 - ac - ETA: 19s - ETA: 2s - loss: 0.0144 - accuracy:  - ETA: 2s - loss: 0.0145 - accura - ETA: 1s - loss: 0.0145 - \n",
      "Epoch 71/100\n",
      "274/274 [==============================] - 80s 292ms/step - loss: 0.0154 - accuracy: 0.9945 - val_loss: 13.0568 - val_accuracy: 0.8938138 - ETA: 39s - loss: 0.0146 - ac - ETA: 37s - loss: 0.0153 - accuracy:  - ETA: 36s - loss: 0.0149 - accuracy: 0.99 - ETA: 35s - loss: 0.0151 - accurac - ETA: 33s  - ETA: 27s - loss: 0.0142 - accur - ETA: 25s - loss: 0.0145 - accuracy:  - ETA: 24s - loss: 0.0146 - accuracy: - ETA: 2 - ETA: 8s - - ETA: 5s - loss: 0.0 - ETA: 2s - los - ETA: 0s - loss: 0.0154 - accuracy: 0.99\n",
      "Epoch 72/100\n",
      "274/274 [==============================] - 80s 294ms/step - loss: 0.0149 - accuracy: 0.9943 - val_loss: 24.7387 - val_accuracy: 0.8977 48s - loss: 0.0119 - accuracy: 0. - ETA: 49s - loss: 0.0125 - accuracy - ETA: 48s - loss: 0.0115 - accuracy: 0.99 - ETA: 48s - loss: 0.0116 - accuracy - ETA: 47s - loss: 0.0 - ETA: 43s - loss: 0.0 - ETA: 39s - loss: 0.0131 - accuracy: 0 - ETA: 38s - los - ETA: 33s - loss: 0.0136 - a - ETA: 30s - loss: 0.0135 - accuracy: 0.995 - ETA: 30s - loss: 0.0134 -  - ETA: 26s - loss: 0.0134 - accu - ETA: 24s - ETA: 17s - loss: 0.0134 - accura - ETA: 15s - loss: 0.0135 - accura - ETA: 13s - loss: 0.0139 - accuracy: 0. - ETA: 12s - loss: 0.0139 - accura - ETA: 10s - loss: 0.0141 - - ETA: 3s - loss: 0.0144  - ETA: 2s - loss: 0.0145 - accuracy: 0.99 - ETA: 1s - loss: 0.0146 - accura - ETA: 0s - loss: 0.0146 - accuracy: 0.99 - ETA: 0s - loss: 0.0146 - accuracy\n",
      "Epoch 73/100\n",
      "274/274 [==============================] - 81s 295ms/step - loss: 0.0145 - accuracy: 0.9947 - val_loss: 61.8105 - val_accuracy: 0.8862: 43s - loss: 0.01 - ETA: 39s - loss: 0.0151 - accurac - ETA: 38s - loss: 0.0162  - ETA: 34s - loss: 0.0161 - accuracy: - ETA: 33s - loss - ETA: 27s - loss: 0.0163 - accur - ETA: 25s - loss: 0.0158 - accuracy: 0.99 - ETA: 25s - loss: 0.0158 - accuracy: 0.99 - ETA: 24s - loss: 0.0157 - accurac - E - ETA: 14s - loss: 0.0148 - accuracy: 0.99 - ETA: 14s - loss: 0.0149 - ETA: 5s - loss: - ETA: 2s - l\n",
      "Epoch 74/100\n",
      "274/274 [==============================] - 80s 294ms/step - loss: 0.0143 - accuracy: 0.9947 - val_loss: 34.5508 - val_accuracy: 0.7324: 0.0144 - accuracy: 0.9 - ETA: 3 - ETA: 26s - loss: 0.0139 - accu - ETA: 23s - loss: 0.0138 - - ETA: 20s - loss: 0. - ETA: 15s - loss: 0.0136 - accuracy: 0.99 - ETA: 15s - loss: 0.0136  - ETA: 11s - loss: 0.0 - ETA: 4s - loss: 0.0142 - accuracy: 0. - ETA: 3s - loss: 0.0143 - accuracy:  - ETA: 3s -\n",
      "Epoch 75/100\n",
      "274/274 [==============================] - 78s 286ms/step - loss: 0.0130 - accuracy: 0.9952 - val_loss: 10.2634 - val_accuracy: 0.8794 46s - loss: 0.0106 - accuracy: 0. - ETA: 47s - loss: 0.0109 - - ETA: 45s - loss: 0.0141 - accuracy: 0.9 - ETA: 45s - loss:  - ETA: 41s - loss: 0.0141 - accuracy: 0.99 - ETA: 40s - loss: 0.0138 - ac - ETA: 38s - loss: 0.0144 - accuracy: 0.994 - ETA: 38s - loss: 0 - ETA: 34s - loss: 0.0140 - accura - ETA: 32s - - ETA: 26s - ETA: 1s - loss: 0.0131 - ac\n",
      "Epoch 76/100\n",
      "274/274 [==============================] - 76s 277ms/step - loss: 0.0145 - accuracy: 0.9947 - val_loss: 12.0540 - val_accuracy: 0.8861- E - ETA: 25s - loss: 0.0148 - accurac - E - ETA: 0s - loss: 0.0144 - accuracy: \n",
      "Epoch 77/100\n",
      "274/274 [==============================] - 77s 282ms/step - loss: 0.0139 - accuracy: 0.9946 - val_loss: 4.3224 - val_accuracy: 0.88660.0120 - a - ETA: - ETA: 0s - loss: 0.0138 - accuracy\n",
      "Epoch 78/100\n",
      "274/274 [==============================] - 77s 282ms/step - loss: 0.0135 - accuracy: 0.9946 - val_loss: 18.5173 - val_accuracy: 0.91187s - - ETA: 32s - loss:  - ET - ETA: 20s - loss\n",
      "Epoch 79/100\n",
      "274/274 [==============================] - 78s 283ms/step - loss: 0.0151 - accuracy: 0.9942 - val_loss: 3.2301 - val_accuracy: 0.8917: 43s - loss: 0 - ETA: 33 - ETA: 27s - loss: 0.0144 - accu - ETA: 24s - loss: 0.0144 - accuracy: 0. - ETA: 24s - loss: 0.0142 - accu - ETA: 21s - loss: 0. - ETA: 17s - loss: 0.0141 - accuracy: - ETA: 4s - ETA: 1s - loss: 0.0153 - ac\n",
      "Epoch 80/100\n",
      "274/274 [==============================] - 78s 286ms/step - loss: 0.0130 - accuracy: 0.9950 - val_loss: 3.3897 - val_accuracy: 0.9188s - lo - ETA: 27 - ETA: 20s - loss: 0.0134 - accuracy - ETA: 18s - loss: 0.0136 - accuracy: - ETA: 17s - loss: 0.01 - ETA:  - ETA: 3s - loss: 0.0131 - accu - ETA: 2s - loss: 0.0130 - accura - ETA: 1s - loss: 0.0129 - ac\n",
      "Epoch 81/100\n",
      "274/274 [==============================] - 76s 279ms/step - loss: 0.0142 - accuracy: 0.9946 - val_loss: 3.0633 - val_accuracy: 0.9085\n",
      "Epoch 82/100\n",
      "274/274 [==============================] - 76s 278ms/step - loss: 0.0134 - accuracy: 0.9950 - val_loss: 4.3848 - val_accuracy: 0.9192 11s - loss: 0.0138 - ETA - ETA: 0s - loss: 0.0134 - accura\n",
      "Epoch 83/100\n",
      "274/274 [==============================] - 76s 278ms/step - loss: 0.0127 - accuracy: 0.9951 - val_loss: 1.6680 - val_accuracy: 0.9051oss: 0.0105 - accurac - ETA: 26s - loss: 0.0106 - accuracy:  - ETA: 25s - loss: 0.0109 - ac - ETA: 22s - - ETA: 16s - loss: 0.0114 - accu - ETA: 7s - loss: 0.0123 -  - ETA: 6s - loss: 0.0 - ETA: 0s - loss: 0.0127 - accuracy: 0.99\n",
      "Epoch 84/100\n",
      "274/274 [==============================] - 78s 283ms/step - loss: 0.0132 - accuracy: 0.9950 - val_loss: 1.5462 - val_accuracy: 0.9259 2 - ETA: 18s - loss: 0.0125 - a\n",
      "Epoch 85/100\n",
      "274/274 [==============================] - 75s 275ms/step - loss: 0.0122 - accuracy: 0.9957 - val_loss: 2.6422 - val_accuracy: 0.9105s - loss: 0.0110 - accuracy:  - ETA: 35s - loss: \n",
      "Epoch 86/100\n",
      "274/274 [==============================] - 77s 279ms/step - loss: 0.0138 - accuracy: 0.9950 - val_loss: 143.9106 - val_accuracy: 0.8684ss: 0.0114 - accur - ETA: 2 - ETA: 17s - loss: 0. - ETA: 13s \n",
      "Epoch 87/100\n",
      "274/274 [==============================] - 80s 290ms/step - loss: 0.0139 - accuracy: 0.9946 - val_loss: 10.6231 - val_accuracy: 0.886655 - accuracy - ETA: 43s - loss: 0 - ETA: 39s - loss: 0.0146 - accuracy: 0 - ETA: 39s - loss: 0.0140  - ETA: 35s - loss: 0.0133 - accur - ETA: 33s - loss: 0.01 - ETA: 29s - loss: 0.0149 - accuracy: 0. - ETA: 29s - loss: 0.0147 - accuracy:  - ETA: 28s - loss: 0.0146 - accuracy: - ETA: 26s - l - ETA: 12s - loss: 0.0139 - accurac - ET - ETA: 6s - loss: 0.0 - E\n",
      "Epoch 88/100\n",
      "274/274 [==============================] - 80s 293ms/step - loss: 0.0119 - accuracy: 0.9957 - val_loss: 1.7045 - val_accuracy: 0.9195 37s - loss: 0.0118 - accuracy: 0. - ETA:  - ETA: 29s  - ETA: 22s - loss: 0. - ETA: 4s - loss: 0.0118 - accuracy: 0.99 - ETA: 4s - loss: 0.0118 - accuracy - ETA: 3s - l - ETA: 0s - loss: 0.0119 - accuracy: 0. - ETA: 0s - loss: 0.0119 - accuracy: 0.\n",
      "Epoch 89/100\n"
     ]
    },
    {
     "name": "stdout",
     "output_type": "stream",
     "text": [
      "274/274 [==============================] - 77s 282ms/step - loss: 0.0127 - accuracy: 0.9947 - val_loss: 5.0188 - val_accuracy: 0.8730 loss: 0.0124 - accurac - ETA: 41s - loss: 0.0124 - accuracy: 0.994 - ETA: 40 - ETA: 18s - loss: 0.0130 - accuracy: 0. - ETA: 17s - loss: 0.0130 - accuracy: 0. - ETA: 16s -  - ETA: 10s - loss: 0.0129 - accuracy: 0.9 - - ETA: 1s - loss: 0.0129 \n",
      "Epoch 90/100\n",
      "274/274 [==============================] - 75s 275ms/step - loss: 0.0122 - accuracy: 0.9955 - val_loss: 1.5425 - val_accuracy: 0.9194 loss: 0.0121 - accuracy: 0.995 - ETA:  - ETA: 25s - loss: 0.0119 - - ETA: 22s - loss: 0.0119 - accuracy: 0 - ETA: 21s -  - ETA: 15s - loss: 0.0118 - acc  - ETA: 7s - loss: 0.0 - ETA: 5s - loss: 0.0122 - ac - ETA: 3s - loss: 0.0122 - accura - ETA: 2s - loss: 0.0122 - accu - ETA: 1s - loss: 0.0122 - accuracy:  - ETA: 1s - loss: 0.0122 - ac\n",
      "Epoch 91/100\n",
      "274/274 [==============================] - 75s 274ms/step - loss: 0.0113 - accuracy: 0.9955 - val_loss: 2.0629 - val_accuracy: 0.8982ss: 0.0110 - accura - ETA: 0s - loss: 0.0113 - accuracy: 0.\n",
      "Epoch 92/100\n",
      "274/274 [==============================] - 79s 287ms/step - loss: 0.0133 - accuracy: 0.9948 - val_loss: 2.4671 - val_accuracy: 0.9020 loss: 0.0131 - acc - ETA: 28s - loss: 0.013 - ETA: 3s - loss: 0 - ETA: 1s - loss: 0.0131 - \n",
      "Epoch 93/100\n",
      "274/274 [==============================] - 76s 276ms/step - loss: 0.0115 - accuracy: 0.9957 - val_loss: 1.5762 - val_accuracy: 0.9159\n",
      "Epoch 94/100\n",
      "274/274 [==============================] - 76s 276ms/step - loss: 0.0114 - accuracy: 0.9959 - val_loss: 2.0264 - val_accuracy: 0.89580.0104 - a - ETA: 37s - loss: 0.0111 - accu - ETA:  - ETA: 21s - ETA: 15s - loss: 0.0107 - accuracy: 0. - ETA: 14s - loss: 0.01 - ETA: 10s - loss: 0.0109 - accuracy: 0.996 - ETA: 10s - loss: 0.0109 - accura - ETA: 9s - loss: 0.0111 - ac - ETA:  - ETA: 4s - loss: 0.0116 - accuracy: 0. - ETA: 4s - loss: 0.011 - ETA: 2s - loss:\n",
      "Epoch 95/100\n",
      "274/274 [==============================] - 76s 277ms/step - loss: 0.0125 - accuracy: 0.9954 - val_loss: 2.1044 - val_accuracy: 0.8956 - accuracy: 0.996 - ETA: 40s - los - ETA: 36s - loss - ETA: 31s  - ETA: 26s - loss: 0.0115 - accu - ETA: 23s - loss: 0.0116 - accuracy: 0.9 - ETA: 23s - loss: 0.0116 - ac - ETA: 6s - loss: 0.0119 - accu - ETA: 5s - loss: 0.0122 - accuracy:  - ETA:  - ETA: 1s - loss: 0.012\n",
      "Epoch 96/100\n",
      "274/274 [==============================] - 75s 274ms/step - loss: 0.0120 - accuracy: 0.9953 - val_loss: 4.4333 - val_accuracy: 0.844542s - loss: 0.0088 - accuracy: 0. - ETA: 41s - loss: 0.0096 - ac - ETA: 32s - loss: 0.0103 - accuracy: - ETA - ETA: 4s - loss: 0.0 - ETA: 2s - loss: 0.0120 - accuracy: 0. - ETA: 1s - loss: 0.0121 - ac - ETA: 0s - loss: 0.0120 - accuracy\n",
      "Epoch 97/100\n",
      "274/274 [==============================] - 76s 279ms/step - loss: 0.0107 - accuracy: 0.9959 - val_loss: 3.6750 - val_accuracy: 0.8137TA - ETA: 2s - loss: 0\n",
      "Epoch 98/100\n",
      "274/274 [==============================] - 76s 276ms/step - loss: 0.0109 - accuracy: 0.9958 - val_loss: 2.5890 - val_accuracy: 0.8665: 31s - loss: 0.0108 - a - ETA: 28s - loss:  - ETA: 24s - loss: 0.0111 - accuracy: 0.99 - ETA: 23s - loss: 0.0111 - accuracy: - ETA: 22s - loss: 0.0109 - accuracy: 0 - ETA: 21s - loss: 0. - ETA: 17s - l - ETA: 6s - loss: - ETA: 0s - loss: 0.0109 - accuracy: 0.99\n",
      "Epoch 99/100\n",
      "274/274 [==============================] - 76s 278ms/step - loss: 0.0113 - accuracy: 0.9957 - val_loss: 1.8750 - val_accuracy: 0.8729\n",
      "Epoch 100/100\n",
      "274/274 [==============================] - 76s 276ms/step - loss: 0.0109 - accuracy: 0.9955 - val_loss: 3.3889 - val_accuracy: 0.8555: 0.0110 - \n"
     ]
    }
   ],
   "source": [
    "STEP_SIZE_TRAIN=training_set.n//training_set.batch_size\n",
    "STEP_SIZE_VALID=valid_set.n//valid_set.batch_size\n",
    "\n",
    "history = model.fit_generator(training_set,\n",
    "                             steps_per_epoch = STEP_SIZE_TRAIN,\n",
    "                             epochs = epochs,\n",
    "                             validation_data = valid_set,    \n",
    "                             validation_steps = STEP_SIZE_VALID,\n",
    "                             callbacks=[xception_times, xception_accuracy, xception_loss])"
   ]
  },
  {
   "cell_type": "markdown",
   "id": "informative-jerusalem",
   "metadata": {},
   "source": [
    "## Tiempo de Ejecución"
   ]
  },
  {
   "cell_type": "code",
   "execution_count": 21,
   "id": "incorporated-teach",
   "metadata": {},
   "outputs": [],
   "source": [
    "epocas = []\n",
    "xception_eptime = xception_times.logs\n",
    "for i in range(len(xception_eptime)):\n",
    "    epocas.append(i + 1)"
   ]
  },
  {
   "cell_type": "code",
   "execution_count": 22,
   "id": "unable-architect",
   "metadata": {},
   "outputs": [
    {
     "name": "stdout",
     "output_type": "stream",
     "text": [
      "         Epoca     Tiempo  Accuracy      Loss  Val Accuracy   Val Loss\n",
      "0            1  90.853170  0.939572  0.157465      0.675076   0.741257\n",
      "1            2  73.334456  0.971665  0.077334      0.504736   0.727196\n",
      "2            3  74.808071  0.976763  0.062240      0.506436   0.825993\n",
      "3            4  95.933137  0.980318  0.053471      0.496600   1.042115\n",
      "4            5  86.829142  0.982999  0.046669      0.496600   1.414491\n",
      "..         ...        ...       ...       ...           ...        ...\n",
      "96          97  76.772937  0.995917  0.010650      0.813692   3.675037\n",
      "97          98  76.022418  0.995775  0.010915      0.866454   2.588970\n",
      "98          99  76.594169  0.995734  0.011311      0.872890   1.874995\n",
      "99         100  75.881556  0.995531  0.010933      0.855525   3.388901\n",
      "100  Promedios  79.031728  0.991542  0.022930      0.731163  57.407581\n",
      "\n",
      "[101 rows x 6 columns]\n"
     ]
    }
   ],
   "source": [
    "acc = history.history['accuracy']\n",
    "mean_acc = statistics.mean(acc)\n",
    "resultados_train_acc.append(mean_acc)\n",
    "\n",
    "loss = history.history['loss']\n",
    "mean_loss = statistics.mean(loss)\n",
    "resultados_loss.append(mean_loss)\n",
    "\n",
    "val_acc = history.history['val_accuracy']\n",
    "mean_val_acc = statistics.mean(val_acc)\n",
    "resultados_val_acc.append(mean_val_acc)\n",
    "\n",
    "val_loss = history.history['val_loss']\n",
    "mean_val_loss = statistics.mean(val_loss)\n",
    "resultados_val_loss.append(mean_val_loss)\n",
    "\n",
    "mean_time = statistics.mean(xception_times.logs)\n",
    "\n",
    "datos = list(zip(epocas, xception_eptime, acc, loss, val_acc, val_loss))\n",
    "xception_df = pd.DataFrame(datos, columns = ['Epoca', 'Tiempo', 'Accuracy', 'Loss', 'Val Accuracy', 'Val Loss'])\n",
    "\n",
    "\n",
    "new_row = {'Epoca': 'Promedios', 'Tiempo': mean_time, 'Accuracy': mean_acc, 'Loss': mean_loss, 'Val Accuracy': mean_val_acc, 'Val Loss': mean_val_loss}\n",
    "xception_df = xception_df.append(new_row, ignore_index=True)\n",
    "resultados_time.append(mean_time)\n",
    "print(xception_df)\n",
    "x_dir = os.path.join(xception_dir, 'NASNetMobile.csv')\n",
    "xception_df.to_csv(x_dir, index = False)"
   ]
  },
  {
   "cell_type": "code",
   "execution_count": 23,
   "id": "respective-example",
   "metadata": {},
   "outputs": [
    {
     "data": {
      "image/png": "[encoded data removed]",
      "text/plain": [
       "<Figure size 432x288 with 1 Axes>"
      ]
     },
     "metadata": {
      "needs_background": "light"
     },
     "output_type": "display_data"
    }
   ],
   "source": [
    "fig = plt.figure()\n",
    "plt.plot(epocas, xception_eptime)\n",
    "plt.title('NASNetMobile, Tiempo por epoca')\n",
    "plt.xlabel('Epoca')\n",
    "plt.ylabel('Tiempo (s)')\n",
    "plt.show()\n",
    "x_dir = os.path.join(xception_dir, 'NASNetMobile_time.png')\n",
    "fig.savefig(x_dir)"
   ]
  },
  {
   "cell_type": "markdown",
   "id": "dutch-complexity",
   "metadata": {},
   "source": [
    "### Eliminando el primer dato"
   ]
  },
  {
   "cell_type": "code",
   "execution_count": 24,
   "id": "artistic-galaxy",
   "metadata": {},
   "outputs": [
    {
     "data": {
      "image/png": "[encoded data removed]",
      "text/plain": [
       "<Figure size 432x288 with 1 Axes>"
      ]
     },
     "metadata": {
      "needs_background": "light"
     },
     "output_type": "display_data"
    }
   ],
   "source": [
    "fig = plt.figure()\n",
    "plt.plot(epocas[1:], xception_eptime[1:])\n",
    "plt.title('NASNetMobile, Tiempo por epoca, eliminando primer epoca')\n",
    "plt.xlabel('Epoca')\n",
    "plt.ylabel('Tiempo (s)')\n",
    "plt.show()\n",
    "x_dir = os.path.join(xception_dir, 'NASNetMobile_time2.png')\n",
    "fig.savefig(x_dir)"
   ]
  },
  {
   "cell_type": "markdown",
   "id": "after-monte",
   "metadata": {},
   "source": [
    "# Proceso de Entrenamiento"
   ]
  },
  {
   "cell_type": "code",
   "execution_count": 25,
   "id": "baking-inflation",
   "metadata": {},
   "outputs": [
    {
     "data": {
      "image/png": "[encoded data removed]",
      "text/plain": [
       "<Figure size 432x288 with 1 Axes>"
      ]
     },
     "metadata": {
      "needs_background": "light"
     },
     "output_type": "display_data"
    }
   ],
   "source": [
    "fig = plt.figure()\n",
    "plt.plot(history.history['loss'])\n",
    "plt.plot(history.history['val_loss'])\n",
    "plt.title('Loss en epocas - NASNetMobile')\n",
    "plt.ylabel('Loss')\n",
    "plt.xlabel('Epoca')\n",
    "plt.legend(['Entrenamiento', 'Validacion'], loc='best')\n",
    "plt.show()\n",
    "x_dir = os.path.join(xception_dir, 'entrena_loss_NASNetMobile.png')\n",
    "fig.savefig(x_dir)"
   ]
  },
  {
   "cell_type": "code",
   "execution_count": 26,
   "id": "powered-samba",
   "metadata": {},
   "outputs": [
    {
     "data": {
      "image/png": "[encoded data removed]",
      "text/plain": [
       "<Figure size 432x288 with 1 Axes>"
      ]
     },
     "metadata": {
      "needs_background": "light"
     },
     "output_type": "display_data"
    }
   ],
   "source": [
    "fig = plt.figure()\n",
    "plt.plot(history.history['accuracy'])\n",
    "plt.plot(history.history['val_accuracy'])\n",
    "plt.title('Accuracy en epocas - NASNetMobile')\n",
    "plt.ylabel('accuracy')\n",
    "plt.xlabel('Epoca')\n",
    "plt.legend(['Entrenamiento', 'Validacion'], loc='best')\n",
    "plt.show()\n",
    "x_dir = os.path.join(xception_dir, 'entrena_accuracy_NASNetMobile.png')\n",
    "fig.savefig(x_dir)"
   ]
  },
  {
   "cell_type": "markdown",
   "id": "parallel-speaker",
   "metadata": {},
   "source": [
    "## Prueba"
   ]
  },
  {
   "cell_type": "code",
   "execution_count": 27,
   "id": "greek-scottish",
   "metadata": {},
   "outputs": [
    {
     "name": "stdout",
     "output_type": "stream",
     "text": [
      "17/17 [==============================] - 2s 140ms/step - loss: 1.3027 - accuracy: 0.9272\n",
      "92.71876811981201\n",
      "C:\\Users\\dh_vs\\Tesis\\Parpadeos\\transferL\\NASNetMobile\\NASNetMobile_best_accuracy.h5\n",
      "17/17 [==============================] - 1s 63ms/step - loss: 0.7046 - accuracy: 0.5150\n",
      "51.50300860404968\n",
      "C:\\Users\\dh_vs\\Tesis\\Parpadeos\\transferL\\NASNetMobile\\NASNetMobile_loss.h5\n"
     ]
    }
   ],
   "source": [
    "model = keras.models.load_model(acc_checkpoint_path)\n",
    "acc_result = model.evaluate(test_set)\n",
    "result_acc = acc_result[1]*100\n",
    "print(result_acc)\n",
    "print(acc_checkpoint_path)\n",
    "\n",
    "model = keras.models.load_model(loss_checkpoint_path)\n",
    "loss_result = model.evaluate(test_set)\n",
    "result_loss = loss_result[1]*100\n",
    "print(result_loss)\n",
    "print(loss_checkpoint_path)"
   ]
  },
  {
   "cell_type": "code",
   "execution_count": 28,
   "id": "weighted-lafayette",
   "metadata": {},
   "outputs": [
    {
     "name": "stdout",
     "output_type": "stream",
     "text": [
      "acc\n"
     ]
    }
   ],
   "source": [
    "if result_acc >= result_loss:\n",
    "    final_model = keras.models.load_model(acc_checkpoint_path)\n",
    "    result = result_acc\n",
    "    resultados_acc.append(result)\n",
    "    print('acc')\n",
    "else:\n",
    "    final_model = keras.models.load_model(loss_checkpoint_path)\n",
    "    result = result_loss\n",
    "    resultados_acc.append(result)\n",
    "    print('loss')"
   ]
  },
  {
   "cell_type": "markdown",
   "id": "negative-proof",
   "metadata": {},
   "source": [
    "# Propuesto por Mi"
   ]
  },
  {
   "cell_type": "markdown",
   "id": "focused-essence",
   "metadata": {},
   "source": [
    "## Modelo"
   ]
  },
  {
   "cell_type": "code",
   "execution_count": null,
   "id": "local-subsection",
   "metadata": {},
   "outputs": [],
   "source": [
    "model = Sequential()\n",
    "\n",
    "model.add(Input(shape = (ancho, alto, 1)))\n",
    "model.add(Conv2D(32, (4,4), activation = 'relu'))\n",
    "model.add(MaxPooling2D(2,2))\n",
    "model.add(Conv2D(16, (3,3), activation = 'relu'))\n",
    "model.add(MaxPooling2D(2,2))\n",
    "model.add(Conv2D(8, (3,3), activation = 'relu'))\n",
    "model.add(MaxPooling2D(2,2))\n",
    "#model.add(GlobalAveragePooling2D())\n",
    "model.add(Flatten())\n",
    "model.add(Dropout(dropout_rate))\n",
    "model.add(Dense(40, activation = 'relu'))\n",
    "model.add(Dropout(dropout_rate))\n",
    "model.add(Dense(12, activation = 'relu'))\n",
    "model.add(Dense(1, activation = 'sigmoid'))\n",
    "\n",
    "model.summary()"
   ]
  },
  {
   "cell_type": "code",
   "execution_count": null,
   "id": "molecular-kruger",
   "metadata": {},
   "outputs": [],
   "source": [
    "opt = tf.keras.optimizers.Adam(learning_rate=0.1)\n",
    "model.compile(optimizer = 'adam',\n",
    "              loss = 'binary_crossentropy',\n",
    "              metrics = ['accuracy'])"
   ]
  },
  {
   "cell_type": "markdown",
   "id": "aware-exhaust",
   "metadata": {},
   "source": [
    "#### Callbacks"
   ]
  },
  {
   "cell_type": "code",
   "execution_count": null,
   "id": "aquatic-walker",
   "metadata": {},
   "outputs": [],
   "source": [
    "propuesto_times = TimingCallback()\n",
    "\n",
    "\n",
    "acc_model_filename = 'propuesto_best_accuracy.h5'\n",
    "acc_checkpoint_path = os.path.join(mio_dir, acc_model_filename)\n",
    "\n",
    "propuesto_accuracy = [ModelCheckpoint(filepath=acc_checkpoint_path, monitor='val_accuracy', mode='max', save_best_only=True)]\n",
    "\n",
    "loss_model_filename = 'propuesto_loss.h5'\n",
    "loss_checkpoint_path = os.path.join(mio_dir, loss_model_filename)\n",
    "\n",
    "propuesto_loss = [ModelCheckpoint(filepath=loss_checkpoint_path, monitor='val_loss', mode='min', save_best_only=True)]\n"
   ]
  },
  {
   "cell_type": "markdown",
   "id": "informative-milwaukee",
   "metadata": {},
   "source": [
    "## Entrenamiento"
   ]
  },
  {
   "cell_type": "code",
   "execution_count": null,
   "id": "statistical-consultancy",
   "metadata": {
    "scrolled": false
   },
   "outputs": [],
   "source": [
    "STEP_SIZE_TRAIN=training_set.n//training_set.batch_size\n",
    "STEP_SIZE_VALID=valid_set.n//valid_set.batch_size\n",
    "\n",
    "history = model.fit_generator(training_set,\n",
    "                             steps_per_epoch = STEP_SIZE_TRAIN,\n",
    "                             epochs = epochs,\n",
    "                             validation_data = valid_set,    \n",
    "                             validation_steps = STEP_SIZE_VALID,\n",
    "                             callbacks=[propuesto_times, propuesto_accuracy, propuesto_loss])"
   ]
  },
  {
   "cell_type": "markdown",
   "id": "changed-charter",
   "metadata": {},
   "source": [
    "## Tiempo de Ejecuación"
   ]
  },
  {
   "cell_type": "code",
   "execution_count": null,
   "id": "fresh-definition",
   "metadata": {},
   "outputs": [],
   "source": [
    "epocas = []\n",
    "propuesto_eptime = propuesto_times.logs\n",
    "for i in range(len(propuesto_eptime)):\n",
    "    epocas.append(i + 1)"
   ]
  },
  {
   "cell_type": "code",
   "execution_count": null,
   "id": "incorrect-startup",
   "metadata": {},
   "outputs": [],
   "source": [
    "acc = history.history['accuracy']\n",
    "mean_acc = statistics.mean(acc)\n",
    "resultados_train_acc.append(mean_acc)\n",
    "\n",
    "loss = history.history['loss']\n",
    "mean_loss = statistics.mean(loss)\n",
    "resultados_loss.append(mean_loss)\n",
    "\n",
    "val_acc = history.history['val_accuracy']\n",
    "mean_val_acc = statistics.mean(val_acc)\n",
    "resultados_val_acc.append(mean_val_acc)\n",
    "\n",
    "val_loss = history.history['val_loss']\n",
    "mean_val_loss = statistics.mean(val_loss)\n",
    "resultados_val_loss.append(mean_val_loss)\n",
    "\n",
    "mean_time = statistics.mean(propuesto_times.logs)\n",
    "\n",
    "datos = list(zip(epocas, propuesto_eptime, acc, loss, val_acc, val_loss))\n",
    "propuesto_df = pd.DataFrame(datos, columns = ['Epoca', 'Tiempo', 'Accuracy', 'Loss', 'Val Accuracy', 'Val Loss'])\n",
    "\n",
    "\n",
    "new_row = {'Epoca': 'Promedios', 'Tiempo': mean_time, 'Accuracy': mean_acc, 'Loss': mean_loss, 'Val Accuracy': mean_val_acc, 'Val Loss': mean_val_loss}\n",
    "propuesto_df = propuesto_df.append(new_row, ignore_index=True)\n",
    "resultados_time.append(mean_time)\n",
    "print(propuesto_df)\n",
    "m_dir = os.path.join(mio_dir, 'propuesto.csv')\n",
    "propuesto_df.to_csv(m_dir, index = False)"
   ]
  },
  {
   "cell_type": "code",
   "execution_count": null,
   "id": "animated-lease",
   "metadata": {},
   "outputs": [],
   "source": [
    "fig = plt.figure()\n",
    "plt.plot(epocas, propuesto_eptime)\n",
    "plt.title('propuesto, Tiempo por epoca')\n",
    "plt.xlabel('Epoca')\n",
    "plt.ylabel('Tiempo (s)')\n",
    "plt.show()\n",
    "m_dir = os.path.join(mio_dir, 'propuesto_time.png')\n",
    "fig.savefig(m_dir)"
   ]
  },
  {
   "cell_type": "markdown",
   "id": "exempt-seattle",
   "metadata": {},
   "source": [
    "### Eliminando el primer dato"
   ]
  },
  {
   "cell_type": "code",
   "execution_count": null,
   "id": "frank-simple",
   "metadata": {},
   "outputs": [],
   "source": [
    "fig = plt.figure()\n",
    "plt.plot(epocas[1:], propuesto_eptime[1:])\n",
    "plt.title('propuesto, Tiempo por epoca, eliminando primer epoca')\n",
    "plt.xlabel('Epoca')\n",
    "plt.ylabel('Tiempo (s)')\n",
    "plt.show()\n",
    "m_dir = os.path.join(mio_dir, 'propuesto_time2.png')\n",
    "fig.savefig(m_dir)"
   ]
  },
  {
   "cell_type": "markdown",
   "id": "special-uncertainty",
   "metadata": {},
   "source": [
    "## Proceso de Entrenamiento"
   ]
  },
  {
   "cell_type": "code",
   "execution_count": null,
   "id": "voluntary-comment",
   "metadata": {},
   "outputs": [],
   "source": [
    "fig = plt.figure()\n",
    "plt.plot(history.history['loss'])\n",
    "plt.plot(history.history['val_loss'])\n",
    "plt.title('Loss en epocas - Propuesto')\n",
    "plt.ylabel('Loss')\n",
    "plt.xlabel('Epoca')\n",
    "plt.legend(['Entrenamiento', 'Validacion'], loc='best')\n",
    "plt.show()\n",
    "m_dir = os.path.join(mio_dir, 'entrena_loss_propuesto.png')\n",
    "fig.savefig(m_dir)"
   ]
  },
  {
   "cell_type": "code",
   "execution_count": null,
   "id": "involved-determination",
   "metadata": {},
   "outputs": [],
   "source": [
    "fig = plt.figure()\n",
    "plt.plot(history.history['accuracy'])\n",
    "plt.plot(history.history['val_accuracy'])\n",
    "plt.title('Accuracy en epocas - Propuesto')\n",
    "plt.ylabel('accuracy')\n",
    "plt.xlabel('Epoca')\n",
    "plt.legend(['Entrenamiento', 'Validacion'], loc='best')\n",
    "plt.show()\n",
    "m_dir = os.path.join(mio_dir, 'entrena_accuracy_propuesto.png')\n",
    "fig.savefig(m_dir)"
   ]
  },
  {
   "cell_type": "markdown",
   "id": "weekly-chorus",
   "metadata": {},
   "source": [
    "## Prueba"
   ]
  },
  {
   "cell_type": "code",
   "execution_count": null,
   "id": "fallen-ethernet",
   "metadata": {},
   "outputs": [],
   "source": [
    "model = keras.models.load_model(acc_checkpoint_path)\n",
    "acc_result = model.evaluate(test_set)\n",
    "result_acc = acc_result[1]*100\n",
    "print(result_acc)\n",
    "print(acc_checkpoint_path)\n",
    "\n",
    "model = keras.models.load_model(loss_checkpoint_path)\n",
    "loss_result = model.evaluate(test_set)\n",
    "result_loss = loss_result[1]*100\n",
    "print(result_loss)\n",
    "print(loss_checkpoint_path)"
   ]
  },
  {
   "cell_type": "code",
   "execution_count": null,
   "id": "bibliographic-luxury",
   "metadata": {},
   "outputs": [],
   "source": [
    "if result_acc >= result_loss:\n",
    "    final_model = keras.models.load_model(acc_checkpoint_path)\n",
    "    result = result_acc\n",
    "    resultados_acc.append(result)\n",
    "    print('acc')\n",
    "else:\n",
    "    final_model = keras.models.load_model(loss_checkpoint_path)\n",
    "    result = result_loss\n",
    "    resultados_acc.append(result)\n",
    "    print('loss')"
   ]
  },
  {
   "cell_type": "markdown",
   "id": "daily-credits",
   "metadata": {},
   "source": [
    "# Resultados"
   ]
  },
  {
   "cell_type": "code",
   "execution_count": null,
   "id": "honest-sheriff",
   "metadata": {},
   "outputs": [],
   "source": [
    "data_dicc[key_acc] = resultados_acc\n",
    "data_dicc[key_time] = resultados_time\n",
    "data_dicc[key_train_acc] = resultados_train_acc\n",
    "data_dicc[key_loss] = resultados_loss\n",
    "data_dicc[key_val_acc] = resultados_val_acc\n",
    "data_dicc[key_val_loss] = resultados_val_loss\n",
    "\n",
    "results_df = pd.DataFrame(data_dicc)\n",
    "print(results_df)\n",
    "m_dir = os.path.join(resultados_dir, 'resultados.csv')\n",
    "results_df.to_csv(m_dir, index = False)"
   ]
  },
  {
   "cell_type": "markdown",
   "id": "decimal-understanding",
   "metadata": {},
   "source": [
    "## Graficas comparativas"
   ]
  },
  {
   "cell_type": "markdown",
   "id": "quantitative-melissa",
   "metadata": {},
   "source": [
    "### Tiempo"
   ]
  },
  {
   "cell_type": "code",
   "execution_count": null,
   "id": "sufficient-silly",
   "metadata": {},
   "outputs": [],
   "source": [
    "data = [resnet_df[\"Epoca\"], efficientNetB3_df[\"Tiempo\"], resnet_df[\"Tiempo\"], mobilenet_df[\"Tiempo\"], densenet_df[\"Tiempo\"], vgg16_df[\"Tiempo\"], \n",
    "                 xception_df[\"Tiempo\"], propuesto_df[\"Tiempo\"]]\n",
    "\n",
    "headers = [\"Epoca\", \"EfficientNet-B2\", \"ResNet-50\", \"MobileNet\", \"DenseNet 121\", \"VGG-16\",\n",
    "           \"NASNetMobile\", \"Propuesto\"]\n",
    "\n",
    "tiempo = pd.concat(data, axis=1, keys=headers)\n",
    "\n",
    "#Eliminar el tiempo de la primer epoca\n",
    "tiempo.drop(index=[0, epochs], inplace=True)\n"
   ]
  },
  {
   "cell_type": "code",
   "execution_count": null,
   "id": "imperial-accident",
   "metadata": {},
   "outputs": [],
   "source": [
    "from matplotlib import rcParams\n",
    "\n",
    "\n",
    "\n",
    "rcParams['figure.figsize'] = 12,7\n",
    "plot = tiempo.set_index(['Epoca']).plot()\n",
    "plt.title('Tiempo por epoca')\n",
    "plt.ylabel('segundos')\n",
    "fig = plot.get_figure()\n",
    "\n",
    "res_dir = os.path.join(resultados_dir, 'tiempo_all.png')\n",
    "fig.savefig(res_dir)"
   ]
  },
  {
   "cell_type": "code",
   "execution_count": null,
   "id": "plain-disorder",
   "metadata": {},
   "outputs": [],
   "source": [
    "data = [resnet_df[\"Epoca\"], mobilenet_df[\"Tiempo\"], propuesto_df[\"Tiempo\"]]\n",
    "\n",
    "headers = [\"Epoca\", \"MobileNet\", \"Propuesta\"]\n",
    "\n",
    "tiempo = pd.concat(data, axis=1, keys=headers)\n",
    "#Eliminar el tiempo de la primer epoca\n",
    "tiempo.drop(index=[0, epochs], inplace=True)\n",
    "\n",
    "plot = tiempo.set_index(['Epoca']).plot()\n",
    "plt.title('Tiempo - MobileNet vs Red propuesta')\n",
    "plt.ylabel('segundos')\n",
    "fig = plot.get_figure()\n",
    "\n",
    "res_dir = os.path.join(resultados_dir, 'tiempo_mob_prop.png')\n",
    "fig.savefig(res_dir)"
   ]
  },
  {
   "cell_type": "markdown",
   "id": "stable-sodium",
   "metadata": {},
   "source": [
    "### Accuracy"
   ]
  },
  {
   "cell_type": "code",
   "execution_count": null,
   "id": "empirical-beauty",
   "metadata": {},
   "outputs": [],
   "source": [
    "data = [resnet_df[\"Epoca\"], efficientNetB3_df[\"Accuracy\"], resnet_df[\"Accuracy\"], mobilenet_df[\"Accuracy\"], densenet_df[\"Accuracy\"], vgg16_df[\"Accuracy\"], \n",
    "                 xception_df[\"Accuracy\"], propuesto_df[\"Accuracy\"]]\n",
    "\n",
    "headers = [\"Epoca\", \"EfficientNet-B2\", \"ResNet-50\", \"MobileNet\", \"DenseNet 121\", \"VGG-16\",\n",
    "           \"NASNetMobile\", \"Propuesto\"]\n",
    "\n",
    "accuracy = pd.concat(data, axis=1, keys=headers)\n",
    "\n",
    "#Eliminar el ultima fila, promedio\n",
    "accuracy.drop(accuracy.index[-1], inplace=True)\n",
    "accuracy.head()"
   ]
  },
  {
   "cell_type": "code",
   "execution_count": null,
   "id": "martial-specialist",
   "metadata": {},
   "outputs": [],
   "source": [
    "plot = accuracy.set_index(['Epoca']).plot()\n",
    "plt.title('Accuracy')\n",
    "plt.ylabel('accuracy')\n",
    "fig = plot.get_figure()\n",
    "\n",
    "res_dir = os.path.join(resultados_dir, 'accuracy_all.png')\n",
    "fig.savefig(res_dir)"
   ]
  },
  {
   "cell_type": "code",
   "execution_count": null,
   "id": "disabled-zoning",
   "metadata": {},
   "outputs": [],
   "source": [
    "data = [resnet_df[\"Epoca\"], efficientNetB3_df[\"Accuracy\"], resnet_df[\"Accuracy\"], mobilenet_df[\"Accuracy\"], densenet_df[\"Accuracy\"], \n",
    "                 xception_df[\"Accuracy\"], propuesto_df[\"Accuracy\"]]\n",
    "\n",
    "headers = [\"Epoca\", \"EfficientNet-B2\", \"ResNet-50\", \"MobileNet\", \"DenseNet 121\",\n",
    "           \"NASNetMobile\", \"Propuesto\"]\n",
    "\n",
    "accuracy = pd.concat(data, axis=1, keys=headers)\n",
    "#Eliminar el ultima fila, promedio\n",
    "accuracy.drop(accuracy.index[-1], inplace=True)\n",
    "accuracy"
   ]
  },
  {
   "cell_type": "code",
   "execution_count": null,
   "id": "convertible-pharmacology",
   "metadata": {},
   "outputs": [],
   "source": [
    "plot = accuracy.set_index(['Epoca']).plot()\n",
    "plt.title('Accuracy')\n",
    "plt.ylabel('accuracy')\n",
    "fig = plot.get_figure()\n",
    "\n",
    "res_dir = os.path.join(resultados_dir, 'acc_all2.png')\n",
    "fig.savefig(res_dir)"
   ]
  },
  {
   "cell_type": "code",
   "execution_count": null,
   "id": "complete-programming",
   "metadata": {},
   "outputs": [],
   "source": [
    "data = [resnet_df[\"Epoca\"], efficientNetB3_df[\"Accuracy\"], resnet_df[\"Accuracy\"], mobilenet_df[\"Accuracy\"], densenet_df[\"Accuracy\"], \n",
    "                 xception_df[\"Accuracy\"], propuesto_df[\"Accuracy\"]]\n",
    "\n",
    "headers = [\"Epoca\", \"EfficientNet-B2\", \"ResNet-50\", \"MobileNet\", \"DenseNet 121\",\n",
    "           \"NASNetMobile\", \"Propuesto\"]\n",
    "\n",
    "accuracy = pd.concat(data, axis=1, keys=headers)\n",
    "\n",
    "\n",
    "#Eliminar primeras\n",
    "accuracy.drop(accuracy.index[-1], inplace=True)\n",
    "#Eliminar el ultima fila, promedio\n",
    "accuracy.drop(accuracy.index[0:10], inplace=True)\n",
    "accuracy"
   ]
  },
  {
   "cell_type": "code",
   "execution_count": null,
   "id": "overhead-parallel",
   "metadata": {},
   "outputs": [],
   "source": [
    "plot = accuracy.set_index(['Epoca']).plot()\n",
    "plt.title('Accuracy')\n",
    "plt.ylabel('accuracy')\n",
    "fig = plot.get_figure()\n",
    "\n",
    "res_dir = os.path.join(resultados_dir, 'acc_all3.png')\n",
    "fig.savefig(res_dir)"
   ]
  },
  {
   "cell_type": "code",
   "execution_count": null,
   "id": "listed-cricket",
   "metadata": {},
   "outputs": [],
   "source": [
    "data = [resnet_df[\"Epoca\"], mobilenet_df[\"Accuracy\"], propuesto_df[\"Accuracy\"]]\n",
    "\n",
    "headers = [\"Epoca\", \"MobileNet\", \"Propuesta\"]\n",
    "\n",
    "accuracy = pd.concat(data, axis=1, keys=headers)\n",
    "#Eliminar el ultima fila, promedio\n",
    "accuracy.drop(accuracy.index[-1], inplace=True)\n",
    "\n",
    "plot = accuracy.set_index(['Epoca']).plot()\n",
    "plt.title('Accuracy MobileNet vs Red Propuesta')\n",
    "plt.ylabel('accuracy')\n",
    "fig = plot.get_figure()\n",
    "\n",
    "res_dir = os.path.join(resultados_dir, 'accuracy_mob_prop.png')\n",
    "fig.savefig(res_dir)"
   ]
  },
  {
   "cell_type": "code",
   "execution_count": null,
   "id": "intense-particle",
   "metadata": {},
   "outputs": [],
   "source": [
    "data = [resnet_df[\"Epoca\"], efficientNetB3_df[\"Val Accuracy\"], resnet_df[\"Val Accuracy\"], mobilenet_df[\"Val Accuracy\"], densenet_df[\"Val Accuracy\"],\n",
    "        vgg16_df[\"Val Accuracy\"], xception_df[\"Val Accuracy\"], propuesto_df[\"Val Accuracy\"]]\n",
    "\n",
    "headers = [\"Epoca\",\"EfficientNet-B2\", \"ResNet-50\", \"MobileNet\", \"DenseNet 121\", \"VGG-16\",\n",
    "           \"NASNetMobile\",  \"Propuesto\"]\n",
    "\n",
    "v_accuracy = pd.concat(data, axis=1, keys=headers)\n",
    "#Eliminar el ultima fila, promedio\n",
    "v_accuracy.drop(v_accuracy.index[-1], inplace=True)\n",
    "v_accuracy"
   ]
  },
  {
   "cell_type": "code",
   "execution_count": null,
   "id": "urban-stationery",
   "metadata": {},
   "outputs": [],
   "source": [
    "plot = v_accuracy.set_index(['Epoca']).plot()\n",
    "plt.title('Val Accuracy')\n",
    "plt.ylabel('accuracy')\n",
    "plt.legend(loc='lower right', facecolor='white')\n",
    "\n",
    "fig = plot.get_figure()\n",
    "\n",
    "res_dir = os.path.join(resultados_dir, 'v_acc_all2.png')\n",
    "fig.savefig(res_dir)"
   ]
  },
  {
   "cell_type": "code",
   "execution_count": null,
   "id": "modern-export",
   "metadata": {},
   "outputs": [],
   "source": [
    "data = [resnet_df[\"Epoca\"], mobilenet_df[\"Val Accuracy\"], propuesto_df[\"Val Accuracy\"]]\n",
    "\n",
    "headers = [\"Epoca\", \"MobileNet\", \"Propuesta\"]\n",
    "\n",
    "v_accuracy = pd.concat(data, axis=1, keys=headers)\n",
    "#Eliminar el ultima fila, promedio\n",
    "v_accuracy.drop(v_accuracy.index[-1], inplace=True)\n",
    "v_accuracy.head()\n",
    "\n"
   ]
  },
  {
   "cell_type": "code",
   "execution_count": null,
   "id": "numeric-easter",
   "metadata": {},
   "outputs": [],
   "source": [
    "plot = v_accuracy.set_index(['Epoca']).plot()\n",
    "plt.title('Val Accuracy MobileNet vs Red propuesta')\n",
    "plt.ylabel('accuracy')\n",
    "fig = plot.get_figure()\n",
    "\n",
    "res_dir = os.path.join(resultados_dir, 'v_acc_mob_prop.png')\n",
    "fig.savefig(res_dir)"
   ]
  },
  {
   "cell_type": "code",
   "execution_count": null,
   "id": "certified-cooking",
   "metadata": {},
   "outputs": [],
   "source": []
  }
 ],
 "metadata": {
  "kernelspec": {
   "display_name": "gpu",
   "language": "python",
   "name": "gpu"
  },
  "language_info": {
   "codemirror_mode": {
    "name": "ipython",
    "version": 3
   },
   "file_extension": ".py",
   "mimetype": "text/x-python",
   "name": "python",
   "nbconvert_exporter": "python",
   "pygments_lexer": "ipython3",
   "version": "3.7.0"
  }
 },
 "nbformat": 4,
 "nbformat_minor": 5
}
